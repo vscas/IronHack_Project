{
 "cells": [
  {
   "cell_type": "markdown",
   "metadata": {},
   "source": [
    "# SHARK ATTACK PROJECT"
   ]
  },
  {
   "cell_type": "markdown",
   "metadata": {},
   "source": [
    "The company Surf Legal aims to open a new asset, however does not have know-how to decide where to build its first board producing facility. In order to find the best geographical location, Surf Legal wants to develop a market research based on a csv file, which contains the historical shark attacks data."
   ]
  },
  {
   "cell_type": "markdown",
   "metadata": {},
   "source": [
    "The market research must answer the following questions:\n",
    "    \n",
    "    - Which geographical location is the best for the company?\n",
    "    - Which client profile should the company prioritize?"
   ]
  },
  {
   "cell_type": "markdown",
   "metadata": {},
   "source": [
    "**Assumptions**\n",
    "\n",
    "    - Only surfing and standing activities should be considered; \n",
    "    - The period considered for the market research is the last 20 years;\n",
    "    - The location with more entries is the location with more board use."
   ]
  },
  {
   "cell_type": "markdown",
   "metadata": {},
   "source": [
    "**Conclusion**\n",
    "\n"
   ]
  },
  {
   "cell_type": "markdown",
   "metadata": {},
   "source": [
    "**Importando os pacotes que serão utilizados no projeto**"
   ]
  },
  {
   "cell_type": "code",
   "execution_count": 1,
   "metadata": {},
   "outputs": [],
   "source": [
    "# importar os pacotes que serão utilizados para desenvolver o projeto\n",
    "import pandas as pd\n",
    "import numpy as np"
   ]
  },
  {
   "cell_type": "markdown",
   "metadata": {},
   "source": [
    "**Importando o banco de dados que será utilizado**"
   ]
  },
  {
   "cell_type": "code",
   "execution_count": 2,
   "metadata": {},
   "outputs": [
    {
     "data": {
      "text/html": [
       "<div>\n",
       "<style scoped>\n",
       "    .dataframe tbody tr th:only-of-type {\n",
       "        vertical-align: middle;\n",
       "    }\n",
       "\n",
       "    .dataframe tbody tr th {\n",
       "        vertical-align: top;\n",
       "    }\n",
       "\n",
       "    .dataframe thead th {\n",
       "        text-align: right;\n",
       "    }\n",
       "</style>\n",
       "<table border=\"1\" class=\"dataframe\">\n",
       "  <thead>\n",
       "    <tr style=\"text-align: right;\">\n",
       "      <th></th>\n",
       "      <th>Case Number</th>\n",
       "      <th>Date</th>\n",
       "      <th>Year</th>\n",
       "      <th>Type</th>\n",
       "      <th>Country</th>\n",
       "      <th>Area</th>\n",
       "      <th>Location</th>\n",
       "      <th>Activity</th>\n",
       "      <th>Name</th>\n",
       "      <th>Sex</th>\n",
       "      <th>...</th>\n",
       "      <th>Species</th>\n",
       "      <th>Investigator or Source</th>\n",
       "      <th>pdf</th>\n",
       "      <th>href formula</th>\n",
       "      <th>href</th>\n",
       "      <th>Case Number.1</th>\n",
       "      <th>Case Number.2</th>\n",
       "      <th>original order</th>\n",
       "      <th>Unnamed: 22</th>\n",
       "      <th>Unnamed: 23</th>\n",
       "    </tr>\n",
       "  </thead>\n",
       "  <tbody>\n",
       "    <tr>\n",
       "      <th>0</th>\n",
       "      <td>2018.06.25</td>\n",
       "      <td>25-Jun-2018</td>\n",
       "      <td>2018.0</td>\n",
       "      <td>Boating</td>\n",
       "      <td>USA</td>\n",
       "      <td>California</td>\n",
       "      <td>Oceanside, San Diego County</td>\n",
       "      <td>Paddling</td>\n",
       "      <td>Julie Wolfe</td>\n",
       "      <td>F</td>\n",
       "      <td>...</td>\n",
       "      <td>White shark</td>\n",
       "      <td>R. Collier, GSAF</td>\n",
       "      <td>2018.06.25-Wolfe.pdf</td>\n",
       "      <td>http://sharkattackfile.net/spreadsheets/pdf_di...</td>\n",
       "      <td>http://sharkattackfile.net/spreadsheets/pdf_di...</td>\n",
       "      <td>2018.06.25</td>\n",
       "      <td>2018.06.25</td>\n",
       "      <td>6303.0</td>\n",
       "      <td>NaN</td>\n",
       "      <td>NaN</td>\n",
       "    </tr>\n",
       "    <tr>\n",
       "      <th>1</th>\n",
       "      <td>2018.06.18</td>\n",
       "      <td>18-Jun-2018</td>\n",
       "      <td>2018.0</td>\n",
       "      <td>Unprovoked</td>\n",
       "      <td>USA</td>\n",
       "      <td>Georgia</td>\n",
       "      <td>St. Simon Island, Glynn County</td>\n",
       "      <td>Standing</td>\n",
       "      <td>Adyson McNeely</td>\n",
       "      <td>F</td>\n",
       "      <td>...</td>\n",
       "      <td>NaN</td>\n",
       "      <td>K.McMurray, TrackingSharks.com</td>\n",
       "      <td>2018.06.18-McNeely.pdf</td>\n",
       "      <td>http://sharkattackfile.net/spreadsheets/pdf_di...</td>\n",
       "      <td>http://sharkattackfile.net/spreadsheets/pdf_di...</td>\n",
       "      <td>2018.06.18</td>\n",
       "      <td>2018.06.18</td>\n",
       "      <td>6302.0</td>\n",
       "      <td>NaN</td>\n",
       "      <td>NaN</td>\n",
       "    </tr>\n",
       "    <tr>\n",
       "      <th>2</th>\n",
       "      <td>2018.06.09</td>\n",
       "      <td>09-Jun-2018</td>\n",
       "      <td>2018.0</td>\n",
       "      <td>Invalid</td>\n",
       "      <td>USA</td>\n",
       "      <td>Hawaii</td>\n",
       "      <td>Habush, Oahu</td>\n",
       "      <td>Surfing</td>\n",
       "      <td>John Denges</td>\n",
       "      <td>M</td>\n",
       "      <td>...</td>\n",
       "      <td>NaN</td>\n",
       "      <td>K.McMurray, TrackingSharks.com</td>\n",
       "      <td>2018.06.09-Denges.pdf</td>\n",
       "      <td>http://sharkattackfile.net/spreadsheets/pdf_di...</td>\n",
       "      <td>http://sharkattackfile.net/spreadsheets/pdf_di...</td>\n",
       "      <td>2018.06.09</td>\n",
       "      <td>2018.06.09</td>\n",
       "      <td>6301.0</td>\n",
       "      <td>NaN</td>\n",
       "      <td>NaN</td>\n",
       "    </tr>\n",
       "    <tr>\n",
       "      <th>3</th>\n",
       "      <td>2018.06.08</td>\n",
       "      <td>08-Jun-2018</td>\n",
       "      <td>2018.0</td>\n",
       "      <td>Unprovoked</td>\n",
       "      <td>AUSTRALIA</td>\n",
       "      <td>New South Wales</td>\n",
       "      <td>Arrawarra Headland</td>\n",
       "      <td>Surfing</td>\n",
       "      <td>male</td>\n",
       "      <td>M</td>\n",
       "      <td>...</td>\n",
       "      <td>2 m shark</td>\n",
       "      <td>B. Myatt, GSAF</td>\n",
       "      <td>2018.06.08-Arrawarra.pdf</td>\n",
       "      <td>http://sharkattackfile.net/spreadsheets/pdf_di...</td>\n",
       "      <td>http://sharkattackfile.net/spreadsheets/pdf_di...</td>\n",
       "      <td>2018.06.08</td>\n",
       "      <td>2018.06.08</td>\n",
       "      <td>6300.0</td>\n",
       "      <td>NaN</td>\n",
       "      <td>NaN</td>\n",
       "    </tr>\n",
       "    <tr>\n",
       "      <th>4</th>\n",
       "      <td>2018.06.04</td>\n",
       "      <td>04-Jun-2018</td>\n",
       "      <td>2018.0</td>\n",
       "      <td>Provoked</td>\n",
       "      <td>MEXICO</td>\n",
       "      <td>Colima</td>\n",
       "      <td>La Ticla</td>\n",
       "      <td>Free diving</td>\n",
       "      <td>Gustavo Ramos</td>\n",
       "      <td>M</td>\n",
       "      <td>...</td>\n",
       "      <td>Tiger shark, 3m</td>\n",
       "      <td>A .Kipper</td>\n",
       "      <td>2018.06.04-Ramos.pdf</td>\n",
       "      <td>http://sharkattackfile.net/spreadsheets/pdf_di...</td>\n",
       "      <td>http://sharkattackfile.net/spreadsheets/pdf_di...</td>\n",
       "      <td>2018.06.04</td>\n",
       "      <td>2018.06.04</td>\n",
       "      <td>6299.0</td>\n",
       "      <td>NaN</td>\n",
       "      <td>NaN</td>\n",
       "    </tr>\n",
       "  </tbody>\n",
       "</table>\n",
       "<p>5 rows × 24 columns</p>\n",
       "</div>"
      ],
      "text/plain": [
       "  Case Number         Date    Year        Type    Country             Area  \\\n",
       "0  2018.06.25  25-Jun-2018  2018.0     Boating        USA       California   \n",
       "1  2018.06.18  18-Jun-2018  2018.0  Unprovoked        USA          Georgia   \n",
       "2  2018.06.09  09-Jun-2018  2018.0     Invalid        USA           Hawaii   \n",
       "3  2018.06.08  08-Jun-2018  2018.0  Unprovoked  AUSTRALIA  New South Wales   \n",
       "4  2018.06.04  04-Jun-2018  2018.0    Provoked     MEXICO           Colima   \n",
       "\n",
       "                         Location     Activity             Name Sex   ...  \\\n",
       "0     Oceanside, San Diego County     Paddling      Julie Wolfe    F  ...   \n",
       "1  St. Simon Island, Glynn County     Standing  Adyson McNeely     F  ...   \n",
       "2                    Habush, Oahu      Surfing      John Denges    M  ...   \n",
       "3              Arrawarra Headland      Surfing             male    M  ...   \n",
       "4                        La Ticla  Free diving   Gustavo Ramos     M  ...   \n",
       "\n",
       "          Species           Investigator or Source                       pdf  \\\n",
       "0      White shark                R. Collier, GSAF      2018.06.25-Wolfe.pdf   \n",
       "1              NaN  K.McMurray, TrackingSharks.com    2018.06.18-McNeely.pdf   \n",
       "2              NaN  K.McMurray, TrackingSharks.com     2018.06.09-Denges.pdf   \n",
       "3        2 m shark                  B. Myatt, GSAF  2018.06.08-Arrawarra.pdf   \n",
       "4  Tiger shark, 3m                       A .Kipper      2018.06.04-Ramos.pdf   \n",
       "\n",
       "                                        href formula  \\\n",
       "0  http://sharkattackfile.net/spreadsheets/pdf_di...   \n",
       "1  http://sharkattackfile.net/spreadsheets/pdf_di...   \n",
       "2  http://sharkattackfile.net/spreadsheets/pdf_di...   \n",
       "3  http://sharkattackfile.net/spreadsheets/pdf_di...   \n",
       "4  http://sharkattackfile.net/spreadsheets/pdf_di...   \n",
       "\n",
       "                                                href Case Number.1  \\\n",
       "0  http://sharkattackfile.net/spreadsheets/pdf_di...    2018.06.25   \n",
       "1  http://sharkattackfile.net/spreadsheets/pdf_di...    2018.06.18   \n",
       "2  http://sharkattackfile.net/spreadsheets/pdf_di...    2018.06.09   \n",
       "3  http://sharkattackfile.net/spreadsheets/pdf_di...    2018.06.08   \n",
       "4  http://sharkattackfile.net/spreadsheets/pdf_di...    2018.06.04   \n",
       "\n",
       "  Case Number.2 original order Unnamed: 22 Unnamed: 23  \n",
       "0    2018.06.25         6303.0         NaN         NaN  \n",
       "1    2018.06.18         6302.0         NaN         NaN  \n",
       "2    2018.06.09         6301.0         NaN         NaN  \n",
       "3    2018.06.08         6300.0         NaN         NaN  \n",
       "4    2018.06.04         6299.0         NaN         NaN  \n",
       "\n",
       "[5 rows x 24 columns]"
      ]
     },
     "execution_count": 2,
     "metadata": {},
     "output_type": "execute_result"
    }
   ],
   "source": [
    "# usar o pandas para ler a base de dados 'attacks.csv' e atribuir ele a variavel df (dataframe)\n",
    "df = pd.read_csv('attacks.csv', encoding='latin8')\n",
    "\n",
    "# usar o comando head para visualizar uma prévia do dataframe\n",
    "df.head()"
   ]
  },
  {
   "cell_type": "code",
   "execution_count": 3,
   "metadata": {},
   "outputs": [
    {
     "name": "stdout",
     "output_type": "stream",
     "text": [
      "<class 'pandas.core.frame.DataFrame'>\n",
      "RangeIndex: 25723 entries, 0 to 25722\n",
      "Data columns (total 24 columns):\n",
      " #   Column                  Non-Null Count  Dtype  \n",
      "---  ------                  --------------  -----  \n",
      " 0   Case Number             8702 non-null   object \n",
      " 1   Date                    6302 non-null   object \n",
      " 2   Year                    6300 non-null   float64\n",
      " 3   Type                    6298 non-null   object \n",
      " 4   Country                 6252 non-null   object \n",
      " 5   Area                    5847 non-null   object \n",
      " 6   Location                5762 non-null   object \n",
      " 7   Activity                5758 non-null   object \n",
      " 8   Name                    6092 non-null   object \n",
      " 9   Sex                     5737 non-null   object \n",
      " 10  Age                     3471 non-null   object \n",
      " 11  Injury                  6274 non-null   object \n",
      " 12  Fatal (Y/N)             5763 non-null   object \n",
      " 13  Time                    2948 non-null   object \n",
      " 14  Species                 3464 non-null   object \n",
      " 15  Investigator or Source  6285 non-null   object \n",
      " 16  pdf                     6302 non-null   object \n",
      " 17  href formula            6301 non-null   object \n",
      " 18  href                    6302 non-null   object \n",
      " 19  Case Number.1           6302 non-null   object \n",
      " 20  Case Number.2           6302 non-null   object \n",
      " 21  original order          6309 non-null   float64\n",
      " 22  Unnamed: 22             1 non-null      object \n",
      " 23  Unnamed: 23             2 non-null      object \n",
      "dtypes: float64(2), object(22)\n",
      "memory usage: 4.7+ MB\n"
     ]
    }
   ],
   "source": [
    "# checar as informações gerais do df e verificar quais colunas possuem valores missings\n",
    "df.info()"
   ]
  },
  {
   "cell_type": "markdown",
   "metadata": {},
   "source": [
    "**Criação de um novo DataFrame com as Colunas de Interesse**"
   ]
  },
  {
   "cell_type": "code",
   "execution_count": 4,
   "metadata": {},
   "outputs": [
    {
     "data": {
      "text/html": [
       "<div>\n",
       "<style scoped>\n",
       "    .dataframe tbody tr th:only-of-type {\n",
       "        vertical-align: middle;\n",
       "    }\n",
       "\n",
       "    .dataframe tbody tr th {\n",
       "        vertical-align: top;\n",
       "    }\n",
       "\n",
       "    .dataframe thead th {\n",
       "        text-align: right;\n",
       "    }\n",
       "</style>\n",
       "<table border=\"1\" class=\"dataframe\">\n",
       "  <thead>\n",
       "    <tr style=\"text-align: right;\">\n",
       "      <th></th>\n",
       "      <th>Year</th>\n",
       "      <th>Country</th>\n",
       "      <th>Area</th>\n",
       "      <th>Location</th>\n",
       "      <th>Activity</th>\n",
       "      <th>Sex</th>\n",
       "      <th>Age</th>\n",
       "    </tr>\n",
       "  </thead>\n",
       "  <tbody>\n",
       "    <tr>\n",
       "      <th>0</th>\n",
       "      <td>2018.0</td>\n",
       "      <td>USA</td>\n",
       "      <td>California</td>\n",
       "      <td>Oceanside, San Diego County</td>\n",
       "      <td>Paddling</td>\n",
       "      <td>F</td>\n",
       "      <td>57</td>\n",
       "    </tr>\n",
       "    <tr>\n",
       "      <th>1</th>\n",
       "      <td>2018.0</td>\n",
       "      <td>USA</td>\n",
       "      <td>Georgia</td>\n",
       "      <td>St. Simon Island, Glynn County</td>\n",
       "      <td>Standing</td>\n",
       "      <td>F</td>\n",
       "      <td>11</td>\n",
       "    </tr>\n",
       "    <tr>\n",
       "      <th>2</th>\n",
       "      <td>2018.0</td>\n",
       "      <td>USA</td>\n",
       "      <td>Hawaii</td>\n",
       "      <td>Habush, Oahu</td>\n",
       "      <td>Surfing</td>\n",
       "      <td>M</td>\n",
       "      <td>48</td>\n",
       "    </tr>\n",
       "    <tr>\n",
       "      <th>3</th>\n",
       "      <td>2018.0</td>\n",
       "      <td>AUSTRALIA</td>\n",
       "      <td>New South Wales</td>\n",
       "      <td>Arrawarra Headland</td>\n",
       "      <td>Surfing</td>\n",
       "      <td>M</td>\n",
       "      <td>NaN</td>\n",
       "    </tr>\n",
       "    <tr>\n",
       "      <th>4</th>\n",
       "      <td>2018.0</td>\n",
       "      <td>MEXICO</td>\n",
       "      <td>Colima</td>\n",
       "      <td>La Ticla</td>\n",
       "      <td>Free diving</td>\n",
       "      <td>M</td>\n",
       "      <td>NaN</td>\n",
       "    </tr>\n",
       "    <tr>\n",
       "      <th>...</th>\n",
       "      <td>...</td>\n",
       "      <td>...</td>\n",
       "      <td>...</td>\n",
       "      <td>...</td>\n",
       "      <td>...</td>\n",
       "      <td>...</td>\n",
       "      <td>...</td>\n",
       "    </tr>\n",
       "    <tr>\n",
       "      <th>25718</th>\n",
       "      <td>NaN</td>\n",
       "      <td>NaN</td>\n",
       "      <td>NaN</td>\n",
       "      <td>NaN</td>\n",
       "      <td>NaN</td>\n",
       "      <td>NaN</td>\n",
       "      <td>NaN</td>\n",
       "    </tr>\n",
       "    <tr>\n",
       "      <th>25719</th>\n",
       "      <td>NaN</td>\n",
       "      <td>NaN</td>\n",
       "      <td>NaN</td>\n",
       "      <td>NaN</td>\n",
       "      <td>NaN</td>\n",
       "      <td>NaN</td>\n",
       "      <td>NaN</td>\n",
       "    </tr>\n",
       "    <tr>\n",
       "      <th>25720</th>\n",
       "      <td>NaN</td>\n",
       "      <td>NaN</td>\n",
       "      <td>NaN</td>\n",
       "      <td>NaN</td>\n",
       "      <td>NaN</td>\n",
       "      <td>NaN</td>\n",
       "      <td>NaN</td>\n",
       "    </tr>\n",
       "    <tr>\n",
       "      <th>25721</th>\n",
       "      <td>NaN</td>\n",
       "      <td>NaN</td>\n",
       "      <td>NaN</td>\n",
       "      <td>NaN</td>\n",
       "      <td>NaN</td>\n",
       "      <td>NaN</td>\n",
       "      <td>NaN</td>\n",
       "    </tr>\n",
       "    <tr>\n",
       "      <th>25722</th>\n",
       "      <td>NaN</td>\n",
       "      <td>NaN</td>\n",
       "      <td>NaN</td>\n",
       "      <td>NaN</td>\n",
       "      <td>NaN</td>\n",
       "      <td>NaN</td>\n",
       "      <td>NaN</td>\n",
       "    </tr>\n",
       "  </tbody>\n",
       "</table>\n",
       "<p>25723 rows × 7 columns</p>\n",
       "</div>"
      ],
      "text/plain": [
       "         Year    Country             Area                        Location  \\\n",
       "0      2018.0        USA       California     Oceanside, San Diego County   \n",
       "1      2018.0        USA          Georgia  St. Simon Island, Glynn County   \n",
       "2      2018.0        USA           Hawaii                    Habush, Oahu   \n",
       "3      2018.0  AUSTRALIA  New South Wales              Arrawarra Headland   \n",
       "4      2018.0     MEXICO           Colima                        La Ticla   \n",
       "...       ...        ...              ...                             ...   \n",
       "25718     NaN        NaN              NaN                             NaN   \n",
       "25719     NaN        NaN              NaN                             NaN   \n",
       "25720     NaN        NaN              NaN                             NaN   \n",
       "25721     NaN        NaN              NaN                             NaN   \n",
       "25722     NaN        NaN              NaN                             NaN   \n",
       "\n",
       "          Activity Sex   Age  \n",
       "0         Paddling    F   57  \n",
       "1         Standing    F   11  \n",
       "2          Surfing    M   48  \n",
       "3          Surfing    M  NaN  \n",
       "4      Free diving    M  NaN  \n",
       "...            ...  ...  ...  \n",
       "25718          NaN  NaN  NaN  \n",
       "25719          NaN  NaN  NaN  \n",
       "25720          NaN  NaN  NaN  \n",
       "25721          NaN  NaN  NaN  \n",
       "25722          NaN  NaN  NaN  \n",
       "\n",
       "[25723 rows x 7 columns]"
      ]
     },
     "execution_count": 4,
     "metadata": {},
     "output_type": "execute_result"
    }
   ],
   "source": [
    "#Criando um novo dataframe somente com as colunas que serão utilizadas na analise\n",
    "shark_df = df[['Year','Country','Area','Location', 'Activity','Sex ','Age']].copy()\n",
    "shark_df"
   ]
  },
  {
   "cell_type": "code",
   "execution_count": 5,
   "metadata": {},
   "outputs": [],
   "source": [
    "#Corrigindo o nome da coluna\n",
    "shark_df.rename(columns={'Sex ':'Sex'}, inplace=True)"
   ]
  },
  {
   "cell_type": "code",
   "execution_count": 6,
   "metadata": {},
   "outputs": [
    {
     "data": {
      "text/plain": [
       "array(['Paddling', 'Standing', 'Surfing', ...,\n",
       "       'Crew swimming alongside their anchored ship',\n",
       "       '4 men were bathing', 'Wreck of  large double sailing canoe'],\n",
       "      dtype=object)"
      ]
     },
     "execution_count": 6,
     "metadata": {},
     "output_type": "execute_result"
    }
   ],
   "source": [
    "#Analisando os valores distintos da coluna Activity para descobrir quais esportes usam prancha\n",
    "shark_df.Activity.unique()"
   ]
  },
  {
   "cell_type": "markdown",
   "metadata": {},
   "source": [
    "**Limpando a Coluna Year**"
   ]
  },
  {
   "cell_type": "code",
   "execution_count": 7,
   "metadata": {},
   "outputs": [
    {
     "data": {
      "text/plain": [
       "array([2018., 2017., 2016., 2015., 2014., 2013., 2012., 2011., 2010.,\n",
       "       2009., 2008., 2007., 2006., 2005., 2004., 2003., 2002., 2001.,\n",
       "       2000., 1999., 1998., 1997., 1996., 1995., 1984., 1994., 1993.,\n",
       "       1992., 1991., 1990., 1989., 1969., 1988., 1987., 1986., 1985.,\n",
       "       1983., 1982., 1981., 1980., 1979., 1978., 1977., 1976., 1975.,\n",
       "       1974., 1973., 1972., 1971., 1970., 1968., 1967., 1966., 1965.,\n",
       "       1964., 1963., 1962., 1961., 1960., 1959., 1958., 1957., 1956.,\n",
       "       1955., 1954., 1953., 1952., 1951., 1950., 1949., 1948., 1848.,\n",
       "       1947., 1946., 1945., 1944., 1943., 1942., 1941., 1940., 1939.,\n",
       "       1938., 1937., 1936., 1935., 1934., 1933., 1932., 1931., 1930.,\n",
       "       1929., 1928., 1927., 1926., 1925., 1924., 1923., 1922., 1921.,\n",
       "       1920., 1919., 1918., 1917., 1916., 1915., 1914., 1913., 1912.,\n",
       "       1911., 1910., 1909., 1908., 1907., 1906., 1905., 1904., 1903.,\n",
       "       1902., 1901., 1900., 1899., 1898., 1897., 1896., 1895., 1894.,\n",
       "       1893., 1892., 1891., 1890., 1889., 1888., 1887., 1886., 1885.,\n",
       "       1884., 1883., 1882., 1881., 1880., 1879., 1878., 1877., 1876.,\n",
       "       1875., 1874., 1873., 1872., 1871., 1870., 1869., 1868., 1867.,\n",
       "       1866., 1865., 1864., 1863., 1862., 1861., 1860., 1859., 1858.,\n",
       "       1857., 1856., 1855., 1853., 1852., 1851., 1850., 1849., 1847.,\n",
       "       1846., 1845., 1844., 1842., 1841., 1840., 1839., 1837., 1836.,\n",
       "       1835., 1834., 1832., 1831., 1830., 1829., 1828., 1827., 1826.,\n",
       "       1825., 1823., 1822., 1819., 1818., 1817., 1816., 1815., 1812.,\n",
       "       1811., 1810., 1808., 1807., 1805., 1804., 1803., 1802., 1801.,\n",
       "       1800., 1797., 1792., 1791., 1788., 1787., 1786., 1785., 1784.,\n",
       "       1783., 1780., 1779., 1776., 1771., 1767., 1764., 1758., 1753.,\n",
       "       1751., 1749., 1755., 1748., 1742., 1738., 1733., 1723., 1721.,\n",
       "       1703., 1700., 1642., 1638., 1637., 1617., 1595., 1580., 1555.,\n",
       "       1554., 1543.,  500.,   77.,    5.,    0.])"
      ]
     },
     "execution_count": 7,
     "metadata": {},
     "output_type": "execute_result"
    }
   ],
   "source": [
    "# Mudando a coluna Year para númerica\n",
    "shark_df['Year'] = pd.to_numeric(shark_df['Year'], errors = 'coerce').copy()\n",
    "\n",
    "#Removendo os valores missing da coluna Year\n",
    "shark_df = shark_df.dropna(subset = ['Year']).copy()\n",
    "\n",
    "#Conferindo se os valores missings foram excluidos\n",
    "shark_df.Year.unique()"
   ]
  },
  {
   "cell_type": "code",
   "execution_count": 8,
   "metadata": {},
   "outputs": [
    {
     "data": {
      "text/plain": [
       "2015    143\n",
       "2017    136\n",
       "2016    130\n",
       "2011    128\n",
       "2014    127\n",
       "       ... \n",
       "1742      1\n",
       "1738      1\n",
       "1638      1\n",
       "5         1\n",
       "1543      1\n",
       "Name: Year, Length: 249, dtype: int64"
      ]
     },
     "execution_count": 8,
     "metadata": {},
     "output_type": "execute_result"
    }
   ],
   "source": [
    "# Convertendo os valores da coluna Year para Int\n",
    "shark_df = shark_df.astype({'Year': int}).copy()\n",
    "shark_df.Year.value_counts()"
   ]
  },
  {
   "cell_type": "markdown",
   "metadata": {},
   "source": [
    "**Aplicando as condições de Interesse no DataFrama**"
   ]
  },
  {
   "cell_type": "code",
   "execution_count": 9,
   "metadata": {},
   "outputs": [
    {
     "data": {
      "text/html": [
       "<div>\n",
       "<style scoped>\n",
       "    .dataframe tbody tr th:only-of-type {\n",
       "        vertical-align: middle;\n",
       "    }\n",
       "\n",
       "    .dataframe tbody tr th {\n",
       "        vertical-align: top;\n",
       "    }\n",
       "\n",
       "    .dataframe thead th {\n",
       "        text-align: right;\n",
       "    }\n",
       "</style>\n",
       "<table border=\"1\" class=\"dataframe\">\n",
       "  <thead>\n",
       "    <tr style=\"text-align: right;\">\n",
       "      <th></th>\n",
       "      <th>Year</th>\n",
       "      <th>Country</th>\n",
       "      <th>Area</th>\n",
       "      <th>Location</th>\n",
       "      <th>Activity</th>\n",
       "      <th>Sex</th>\n",
       "      <th>Age</th>\n",
       "    </tr>\n",
       "  </thead>\n",
       "  <tbody>\n",
       "    <tr>\n",
       "      <th>1</th>\n",
       "      <td>2018</td>\n",
       "      <td>USA</td>\n",
       "      <td>Georgia</td>\n",
       "      <td>St. Simon Island, Glynn County</td>\n",
       "      <td>Standing</td>\n",
       "      <td>F</td>\n",
       "      <td>11</td>\n",
       "    </tr>\n",
       "    <tr>\n",
       "      <th>2</th>\n",
       "      <td>2018</td>\n",
       "      <td>USA</td>\n",
       "      <td>Hawaii</td>\n",
       "      <td>Habush, Oahu</td>\n",
       "      <td>Surfing</td>\n",
       "      <td>M</td>\n",
       "      <td>48</td>\n",
       "    </tr>\n",
       "    <tr>\n",
       "      <th>3</th>\n",
       "      <td>2018</td>\n",
       "      <td>AUSTRALIA</td>\n",
       "      <td>New South Wales</td>\n",
       "      <td>Arrawarra Headland</td>\n",
       "      <td>Surfing</td>\n",
       "      <td>M</td>\n",
       "      <td>NaN</td>\n",
       "    </tr>\n",
       "    <tr>\n",
       "      <th>9</th>\n",
       "      <td>2018</td>\n",
       "      <td>USA</td>\n",
       "      <td>Florida</td>\n",
       "      <td>Daytona Beach, Volusia County</td>\n",
       "      <td>Standing</td>\n",
       "      <td>M</td>\n",
       "      <td>12</td>\n",
       "    </tr>\n",
       "    <tr>\n",
       "      <th>15</th>\n",
       "      <td>2018</td>\n",
       "      <td>SOUTH AFRICA</td>\n",
       "      <td>Eastern Cape Province</td>\n",
       "      <td>Nahoon Beach, East London</td>\n",
       "      <td>Surfing</td>\n",
       "      <td>M</td>\n",
       "      <td>NaN</td>\n",
       "    </tr>\n",
       "    <tr>\n",
       "      <th>...</th>\n",
       "      <td>...</td>\n",
       "      <td>...</td>\n",
       "      <td>...</td>\n",
       "      <td>...</td>\n",
       "      <td>...</td>\n",
       "      <td>...</td>\n",
       "      <td>...</td>\n",
       "    </tr>\n",
       "    <tr>\n",
       "      <th>6097</th>\n",
       "      <td>1828</td>\n",
       "      <td>USA</td>\n",
       "      <td>Hawaii</td>\n",
       "      <td>Uo, Lahaina, Maui</td>\n",
       "      <td>Surfing</td>\n",
       "      <td>M</td>\n",
       "      <td>NaN</td>\n",
       "    </tr>\n",
       "    <tr>\n",
       "      <th>6143</th>\n",
       "      <td>1779</td>\n",
       "      <td>USA</td>\n",
       "      <td>Hawaii</td>\n",
       "      <td>Maliu, Hawai'i</td>\n",
       "      <td>Surfing</td>\n",
       "      <td>M</td>\n",
       "      <td>young</td>\n",
       "    </tr>\n",
       "    <tr>\n",
       "      <th>6201</th>\n",
       "      <td>0</td>\n",
       "      <td>USA</td>\n",
       "      <td>Florida</td>\n",
       "      <td>Lost Tree Village, Palm Beach County</td>\n",
       "      <td>Surfing</td>\n",
       "      <td>M</td>\n",
       "      <td>NaN</td>\n",
       "    </tr>\n",
       "    <tr>\n",
       "      <th>6249</th>\n",
       "      <td>0</td>\n",
       "      <td>USA</td>\n",
       "      <td>Florida</td>\n",
       "      <td>Palm Beach, Palm Beach County</td>\n",
       "      <td>Standing</td>\n",
       "      <td>M</td>\n",
       "      <td>NaN</td>\n",
       "    </tr>\n",
       "    <tr>\n",
       "      <th>6276</th>\n",
       "      <td>0</td>\n",
       "      <td>BELIZE</td>\n",
       "      <td>NaN</td>\n",
       "      <td>NaN</td>\n",
       "      <td>Standing</td>\n",
       "      <td>M</td>\n",
       "      <td>16</td>\n",
       "    </tr>\n",
       "  </tbody>\n",
       "</table>\n",
       "<p>1070 rows × 7 columns</p>\n",
       "</div>"
      ],
      "text/plain": [
       "      Year       Country                   Area  \\\n",
       "1     2018           USA                Georgia   \n",
       "2     2018           USA                 Hawaii   \n",
       "3     2018     AUSTRALIA        New South Wales   \n",
       "9     2018           USA                Florida   \n",
       "15    2018  SOUTH AFRICA  Eastern Cape Province   \n",
       "...    ...           ...                    ...   \n",
       "6097  1828           USA                 Hawaii   \n",
       "6143  1779           USA                 Hawaii   \n",
       "6201     0           USA                Florida   \n",
       "6249     0           USA                Florida   \n",
       "6276     0        BELIZE                    NaN   \n",
       "\n",
       "                                  Location  Activity Sex    Age  \n",
       "1           St. Simon Island, Glynn County  Standing   F     11  \n",
       "2                             Habush, Oahu   Surfing   M     48  \n",
       "3                       Arrawarra Headland   Surfing   M    NaN  \n",
       "9            Daytona Beach, Volusia County  Standing   M     12  \n",
       "15               Nahoon Beach, East London   Surfing   M    NaN  \n",
       "...                                    ...       ...  ..    ...  \n",
       "6097                     Uo, Lahaina, Maui   Surfing   M    NaN  \n",
       "6143                        Maliu, Hawai'i   Surfing   M  young  \n",
       "6201  Lost Tree Village, Palm Beach County   Surfing   M    NaN  \n",
       "6249         Palm Beach, Palm Beach County  Standing   M    NaN  \n",
       "6276                                   NaN  Standing   M     16  \n",
       "\n",
       "[1070 rows x 7 columns]"
      ]
     },
     "execution_count": 9,
     "metadata": {},
     "output_type": "execute_result"
    }
   ],
   "source": [
    "# criando uma mascara para selecionar apenas os esportes com prancha\n",
    "conditions = (shark_df['Activity'] == 'Standing') | (shark_df['Activity'] == 'Surfing')\n",
    "\n",
    "# Aplicando a mascara no dataframe\n",
    "shark_df = shark_df[conditions].copy()\n",
    "shark_df"
   ]
  },
  {
   "cell_type": "code",
   "execution_count": 10,
   "metadata": {},
   "outputs": [
    {
     "data": {
      "text/html": [
       "<div>\n",
       "<style scoped>\n",
       "    .dataframe tbody tr th:only-of-type {\n",
       "        vertical-align: middle;\n",
       "    }\n",
       "\n",
       "    .dataframe tbody tr th {\n",
       "        vertical-align: top;\n",
       "    }\n",
       "\n",
       "    .dataframe thead th {\n",
       "        text-align: right;\n",
       "    }\n",
       "</style>\n",
       "<table border=\"1\" class=\"dataframe\">\n",
       "  <thead>\n",
       "    <tr style=\"text-align: right;\">\n",
       "      <th></th>\n",
       "      <th>Year</th>\n",
       "      <th>Country</th>\n",
       "      <th>Area</th>\n",
       "      <th>Location</th>\n",
       "      <th>Activity</th>\n",
       "      <th>Sex</th>\n",
       "      <th>Age</th>\n",
       "    </tr>\n",
       "  </thead>\n",
       "  <tbody>\n",
       "    <tr>\n",
       "      <th>1</th>\n",
       "      <td>2018</td>\n",
       "      <td>USA</td>\n",
       "      <td>Georgia</td>\n",
       "      <td>St. Simon Island, Glynn County</td>\n",
       "      <td>Standing</td>\n",
       "      <td>F</td>\n",
       "      <td>11</td>\n",
       "    </tr>\n",
       "    <tr>\n",
       "      <th>2</th>\n",
       "      <td>2018</td>\n",
       "      <td>USA</td>\n",
       "      <td>Hawaii</td>\n",
       "      <td>Habush, Oahu</td>\n",
       "      <td>Surfing</td>\n",
       "      <td>M</td>\n",
       "      <td>48</td>\n",
       "    </tr>\n",
       "    <tr>\n",
       "      <th>3</th>\n",
       "      <td>2018</td>\n",
       "      <td>AUSTRALIA</td>\n",
       "      <td>New South Wales</td>\n",
       "      <td>Arrawarra Headland</td>\n",
       "      <td>Surfing</td>\n",
       "      <td>M</td>\n",
       "      <td>NaN</td>\n",
       "    </tr>\n",
       "    <tr>\n",
       "      <th>9</th>\n",
       "      <td>2018</td>\n",
       "      <td>USA</td>\n",
       "      <td>Florida</td>\n",
       "      <td>Daytona Beach, Volusia County</td>\n",
       "      <td>Standing</td>\n",
       "      <td>M</td>\n",
       "      <td>12</td>\n",
       "    </tr>\n",
       "    <tr>\n",
       "      <th>15</th>\n",
       "      <td>2018</td>\n",
       "      <td>SOUTH AFRICA</td>\n",
       "      <td>Eastern Cape Province</td>\n",
       "      <td>Nahoon Beach, East London</td>\n",
       "      <td>Surfing</td>\n",
       "      <td>M</td>\n",
       "      <td>NaN</td>\n",
       "    </tr>\n",
       "    <tr>\n",
       "      <th>...</th>\n",
       "      <td>...</td>\n",
       "      <td>...</td>\n",
       "      <td>...</td>\n",
       "      <td>...</td>\n",
       "      <td>...</td>\n",
       "      <td>...</td>\n",
       "      <td>...</td>\n",
       "    </tr>\n",
       "    <tr>\n",
       "      <th>2056</th>\n",
       "      <td>2000</td>\n",
       "      <td>PAPUA NEW GUINEA</td>\n",
       "      <td>Madang Province</td>\n",
       "      <td>Long Island near Madang, about 500 km (310 mil...</td>\n",
       "      <td>Standing</td>\n",
       "      <td>M</td>\n",
       "      <td>9</td>\n",
       "    </tr>\n",
       "    <tr>\n",
       "      <th>2063</th>\n",
       "      <td>2000</td>\n",
       "      <td>USA</td>\n",
       "      <td>Florida</td>\n",
       "      <td>Floridana Beach, Brevard County</td>\n",
       "      <td>Surfing</td>\n",
       "      <td>M</td>\n",
       "      <td>37</td>\n",
       "    </tr>\n",
       "    <tr>\n",
       "      <th>2065</th>\n",
       "      <td>2000</td>\n",
       "      <td>AUSTRALIA</td>\n",
       "      <td>New South Wales</td>\n",
       "      <td>McMasters Beach, Central Coast</td>\n",
       "      <td>Surfing</td>\n",
       "      <td>M</td>\n",
       "      <td>NaN</td>\n",
       "    </tr>\n",
       "    <tr>\n",
       "      <th>2074</th>\n",
       "      <td>2000</td>\n",
       "      <td>NEW ZEALAND</td>\n",
       "      <td>South Island</td>\n",
       "      <td>Oreti Beach (reported as the 4th person bitten...</td>\n",
       "      <td>Surfing</td>\n",
       "      <td>M</td>\n",
       "      <td>12</td>\n",
       "    </tr>\n",
       "    <tr>\n",
       "      <th>2075</th>\n",
       "      <td>2000</td>\n",
       "      <td>AUSTRALIA</td>\n",
       "      <td>South Australia</td>\n",
       "      <td>Point Sinclair, Cactus Beach near Penong</td>\n",
       "      <td>Surfing</td>\n",
       "      <td>M</td>\n",
       "      <td>26</td>\n",
       "    </tr>\n",
       "  </tbody>\n",
       "</table>\n",
       "<p>665 rows × 7 columns</p>\n",
       "</div>"
      ],
      "text/plain": [
       "      Year           Country                   Area  \\\n",
       "1     2018               USA                Georgia   \n",
       "2     2018               USA                 Hawaii   \n",
       "3     2018         AUSTRALIA        New South Wales   \n",
       "9     2018               USA                Florida   \n",
       "15    2018      SOUTH AFRICA  Eastern Cape Province   \n",
       "...    ...               ...                    ...   \n",
       "2056  2000  PAPUA NEW GUINEA        Madang Province   \n",
       "2063  2000               USA                Florida   \n",
       "2065  2000         AUSTRALIA        New South Wales   \n",
       "2074  2000       NEW ZEALAND           South Island   \n",
       "2075  2000         AUSTRALIA        South Australia   \n",
       "\n",
       "                                               Location  Activity Sex  Age  \n",
       "1                        St. Simon Island, Glynn County  Standing   F   11  \n",
       "2                                          Habush, Oahu   Surfing   M   48  \n",
       "3                                    Arrawarra Headland   Surfing   M  NaN  \n",
       "9                         Daytona Beach, Volusia County  Standing   M   12  \n",
       "15                            Nahoon Beach, East London   Surfing   M  NaN  \n",
       "...                                                 ...       ...  ..  ...  \n",
       "2056  Long Island near Madang, about 500 km (310 mil...  Standing   M    9  \n",
       "2063                    Floridana Beach, Brevard County   Surfing   M   37  \n",
       "2065                     McMasters Beach, Central Coast   Surfing   M  NaN  \n",
       "2074  Oreti Beach (reported as the 4th person bitten...   Surfing   M   12  \n",
       "2075           Point Sinclair, Cactus Beach near Penong   Surfing   M   26  \n",
       "\n",
       "[665 rows x 7 columns]"
      ]
     },
     "execution_count": 10,
     "metadata": {},
     "output_type": "execute_result"
    }
   ],
   "source": [
    "# criando uma mascara para selecionar apenas os anos de interrese\n",
    "year_cut = (shark_df['Year'] >= 2000)\n",
    "\n",
    "# Aplicando a mascara no dataframe\n",
    "shark_df = shark_df[year_cut].copy()\n",
    "shark_df"
   ]
  },
  {
   "cell_type": "code",
   "execution_count": 11,
   "metadata": {},
   "outputs": [
    {
     "data": {
      "text/plain": [
       "M      591\n",
       "F       64\n",
       "lli      1\n",
       "Name: Sex, dtype: int64"
      ]
     },
     "execution_count": 11,
     "metadata": {},
     "output_type": "execute_result"
    }
   ],
   "source": [
    "#verificando quais os valores da coluna Sex\n",
    "shark_df.Sex.value_counts()"
   ]
  },
  {
   "cell_type": "code",
   "execution_count": 12,
   "metadata": {},
   "outputs": [
    {
     "data": {
      "text/html": [
       "<div>\n",
       "<style scoped>\n",
       "    .dataframe tbody tr th:only-of-type {\n",
       "        vertical-align: middle;\n",
       "    }\n",
       "\n",
       "    .dataframe tbody tr th {\n",
       "        vertical-align: top;\n",
       "    }\n",
       "\n",
       "    .dataframe thead th {\n",
       "        text-align: right;\n",
       "    }\n",
       "</style>\n",
       "<table border=\"1\" class=\"dataframe\">\n",
       "  <thead>\n",
       "    <tr style=\"text-align: right;\">\n",
       "      <th></th>\n",
       "      <th>Year</th>\n",
       "      <th>Country</th>\n",
       "      <th>Area</th>\n",
       "      <th>Location</th>\n",
       "      <th>Activity</th>\n",
       "      <th>Sex</th>\n",
       "      <th>Age</th>\n",
       "    </tr>\n",
       "  </thead>\n",
       "  <tbody>\n",
       "    <tr>\n",
       "      <th>1</th>\n",
       "      <td>2018</td>\n",
       "      <td>USA</td>\n",
       "      <td>Georgia</td>\n",
       "      <td>St. Simon Island, Glynn County</td>\n",
       "      <td>Standing</td>\n",
       "      <td>F</td>\n",
       "      <td>11</td>\n",
       "    </tr>\n",
       "    <tr>\n",
       "      <th>2</th>\n",
       "      <td>2018</td>\n",
       "      <td>USA</td>\n",
       "      <td>Hawaii</td>\n",
       "      <td>Habush, Oahu</td>\n",
       "      <td>Surfing</td>\n",
       "      <td>M</td>\n",
       "      <td>48</td>\n",
       "    </tr>\n",
       "    <tr>\n",
       "      <th>3</th>\n",
       "      <td>2018</td>\n",
       "      <td>AUSTRALIA</td>\n",
       "      <td>New South Wales</td>\n",
       "      <td>Arrawarra Headland</td>\n",
       "      <td>Surfing</td>\n",
       "      <td>M</td>\n",
       "      <td>NaN</td>\n",
       "    </tr>\n",
       "    <tr>\n",
       "      <th>9</th>\n",
       "      <td>2018</td>\n",
       "      <td>USA</td>\n",
       "      <td>Florida</td>\n",
       "      <td>Daytona Beach, Volusia County</td>\n",
       "      <td>Standing</td>\n",
       "      <td>M</td>\n",
       "      <td>12</td>\n",
       "    </tr>\n",
       "    <tr>\n",
       "      <th>15</th>\n",
       "      <td>2018</td>\n",
       "      <td>SOUTH AFRICA</td>\n",
       "      <td>Eastern Cape Province</td>\n",
       "      <td>Nahoon Beach, East London</td>\n",
       "      <td>Surfing</td>\n",
       "      <td>M</td>\n",
       "      <td>NaN</td>\n",
       "    </tr>\n",
       "    <tr>\n",
       "      <th>...</th>\n",
       "      <td>...</td>\n",
       "      <td>...</td>\n",
       "      <td>...</td>\n",
       "      <td>...</td>\n",
       "      <td>...</td>\n",
       "      <td>...</td>\n",
       "      <td>...</td>\n",
       "    </tr>\n",
       "    <tr>\n",
       "      <th>2056</th>\n",
       "      <td>2000</td>\n",
       "      <td>PAPUA NEW GUINEA</td>\n",
       "      <td>Madang Province</td>\n",
       "      <td>Long Island near Madang, about 500 km (310 mil...</td>\n",
       "      <td>Standing</td>\n",
       "      <td>M</td>\n",
       "      <td>9</td>\n",
       "    </tr>\n",
       "    <tr>\n",
       "      <th>2063</th>\n",
       "      <td>2000</td>\n",
       "      <td>USA</td>\n",
       "      <td>Florida</td>\n",
       "      <td>Floridana Beach, Brevard County</td>\n",
       "      <td>Surfing</td>\n",
       "      <td>M</td>\n",
       "      <td>37</td>\n",
       "    </tr>\n",
       "    <tr>\n",
       "      <th>2065</th>\n",
       "      <td>2000</td>\n",
       "      <td>AUSTRALIA</td>\n",
       "      <td>New South Wales</td>\n",
       "      <td>McMasters Beach, Central Coast</td>\n",
       "      <td>Surfing</td>\n",
       "      <td>M</td>\n",
       "      <td>NaN</td>\n",
       "    </tr>\n",
       "    <tr>\n",
       "      <th>2074</th>\n",
       "      <td>2000</td>\n",
       "      <td>NEW ZEALAND</td>\n",
       "      <td>South Island</td>\n",
       "      <td>Oreti Beach (reported as the 4th person bitten...</td>\n",
       "      <td>Surfing</td>\n",
       "      <td>M</td>\n",
       "      <td>12</td>\n",
       "    </tr>\n",
       "    <tr>\n",
       "      <th>2075</th>\n",
       "      <td>2000</td>\n",
       "      <td>AUSTRALIA</td>\n",
       "      <td>South Australia</td>\n",
       "      <td>Point Sinclair, Cactus Beach near Penong</td>\n",
       "      <td>Surfing</td>\n",
       "      <td>M</td>\n",
       "      <td>26</td>\n",
       "    </tr>\n",
       "  </tbody>\n",
       "</table>\n",
       "<p>655 rows × 7 columns</p>\n",
       "</div>"
      ],
      "text/plain": [
       "      Year           Country                   Area  \\\n",
       "1     2018               USA                Georgia   \n",
       "2     2018               USA                 Hawaii   \n",
       "3     2018         AUSTRALIA        New South Wales   \n",
       "9     2018               USA                Florida   \n",
       "15    2018      SOUTH AFRICA  Eastern Cape Province   \n",
       "...    ...               ...                    ...   \n",
       "2056  2000  PAPUA NEW GUINEA        Madang Province   \n",
       "2063  2000               USA                Florida   \n",
       "2065  2000         AUSTRALIA        New South Wales   \n",
       "2074  2000       NEW ZEALAND           South Island   \n",
       "2075  2000         AUSTRALIA        South Australia   \n",
       "\n",
       "                                               Location  Activity Sex  Age  \n",
       "1                        St. Simon Island, Glynn County  Standing   F   11  \n",
       "2                                          Habush, Oahu   Surfing   M   48  \n",
       "3                                    Arrawarra Headland   Surfing   M  NaN  \n",
       "9                         Daytona Beach, Volusia County  Standing   M   12  \n",
       "15                            Nahoon Beach, East London   Surfing   M  NaN  \n",
       "...                                                 ...       ...  ..  ...  \n",
       "2056  Long Island near Madang, about 500 km (310 mil...  Standing   M    9  \n",
       "2063                    Floridana Beach, Brevard County   Surfing   M   37  \n",
       "2065                     McMasters Beach, Central Coast   Surfing   M  NaN  \n",
       "2074  Oreti Beach (reported as the 4th person bitten...   Surfing   M   12  \n",
       "2075           Point Sinclair, Cactus Beach near Penong   Surfing   M   26  \n",
       "\n",
       "[655 rows x 7 columns]"
      ]
     },
     "execution_count": 12,
     "metadata": {},
     "output_type": "execute_result"
    }
   ],
   "source": [
    "# criando uma mascara para selecionar apenas os sexos Masculinos e Feminino\n",
    "sex_cut = (shark_df['Sex'] == 'M' ) | (shark_df['Sex'] == 'F')\n",
    "\n",
    "# Aplicando a mascara no dataframe\n",
    "shark_df = shark_df[sex_cut].copy()\n",
    "shark_df"
   ]
  },
  {
   "cell_type": "code",
   "execution_count": 13,
   "metadata": {},
   "outputs": [
    {
     "name": "stdout",
     "output_type": "stream",
     "text": [
      "['Standing' 'Surfing']\n",
      " \n",
      "[2018 2017 2016 2015 2014 2013 2012 2011 2010 2009 2008 2007 2006 2005\n",
      " 2004 2003 2002 2001 2000]\n",
      " \n",
      "['F' 'M']\n"
     ]
    }
   ],
   "source": [
    "# verificando se os filtros foram aplicados corretamente no dataframe\n",
    "print(shark_df.Activity.unique())\n",
    "print(' ')\n",
    "print(shark_df.Year.unique())\n",
    "print(' ')\n",
    "print(shark_df.Sex.unique())"
   ]
  },
  {
   "cell_type": "markdown",
   "metadata": {},
   "source": [
    "**Verificando as informações do novo dataframe**"
   ]
  },
  {
   "cell_type": "code",
   "execution_count": 14,
   "metadata": {},
   "outputs": [
    {
     "name": "stdout",
     "output_type": "stream",
     "text": [
      "<class 'pandas.core.frame.DataFrame'>\n",
      "Int64Index: 655 entries, 1 to 2075\n",
      "Data columns (total 7 columns):\n",
      " #   Column    Non-Null Count  Dtype \n",
      "---  ------    --------------  ----- \n",
      " 0   Year      655 non-null    int32 \n",
      " 1   Country   654 non-null    object\n",
      " 2   Area      651 non-null    object\n",
      " 3   Location  650 non-null    object\n",
      " 4   Activity  655 non-null    object\n",
      " 5   Sex       655 non-null    object\n",
      " 6   Age       539 non-null    object\n",
      "dtypes: int32(1), object(6)\n",
      "memory usage: 38.4+ KB\n"
     ]
    }
   ],
   "source": [
    "# verificando em quais colunas temos valores missings\n",
    "shark_df.info()"
   ]
  },
  {
   "cell_type": "code",
   "execution_count": 15,
   "metadata": {},
   "outputs": [
    {
     "data": {
      "text/plain": [
       "(655, 7)"
      ]
     },
     "execution_count": 15,
     "metadata": {},
     "output_type": "execute_result"
    }
   ],
   "source": [
    "# checando o tamanho do novo dataframe\n",
    "shark_df.shape"
   ]
  },
  {
   "cell_type": "markdown",
   "metadata": {},
   "source": [
    "**Limpando a coluna Age**"
   ]
  },
  {
   "cell_type": "code",
   "execution_count": 16,
   "metadata": {},
   "outputs": [
    {
     "data": {
      "text/plain": [
       "array(['11', '48', nan, '12', '60', '41', '37', '19', '18', '20', '54',\n",
       "       '35', '14', '24', '25', '31', '33', '28', '42', '17', '13', '58',\n",
       "       '16', '65', '36', '29', '21', '43', '22', '9', '27', '15', '32',\n",
       "       '38', '52', '47', '40', '45', '34', '23', '26', '50', '44', '50s',\n",
       "       '51', '8', 'teen', '30', '7', '10', '39', '30s', '61', '53', '63',\n",
       "       '49', '46', 'Teen', '55', '68', '59', '57', '30 or 36', '33 or 37'],\n",
       "      dtype=object)"
      ]
     },
     "execution_count": 16,
     "metadata": {},
     "output_type": "execute_result"
    }
   ],
   "source": [
    "# iniciando o tratamento pela coluna com mais valores missings\n",
    "# verificando os valores unicos da coluna Age, e identificando quais valores não estão corretos\n",
    "shark_df.Age.unique()"
   ]
  },
  {
   "cell_type": "code",
   "execution_count": 17,
   "metadata": {},
   "outputs": [],
   "source": [
    "# corrigindo os casos com erro que era possível identificar o valor real\n",
    "shark_df.loc['30s', 'Age'] = '30'\n",
    "shark_df.loc['50s', 'Age'] = '50'"
   ]
  },
  {
   "cell_type": "code",
   "execution_count": 18,
   "metadata": {},
   "outputs": [],
   "source": [
    "# convertendo os valores da coluna Age para Númericos\n",
    "# e transformando os erros que não são possíveis identificar a idade real para valores nulos.\n",
    "shark_df['Age'] = pd.to_numeric(shark_df['Age'], errors = 'coerce')"
   ]
  },
  {
   "cell_type": "code",
   "execution_count": 19,
   "metadata": {},
   "outputs": [
    {
     "data": {
      "text/plain": [
       "25"
      ]
     },
     "execution_count": 19,
     "metadata": {},
     "output_type": "execute_result"
    }
   ],
   "source": [
    "# calculando a mediana das idades e arrendondando para um número inteiro\n",
    "age_median= round(shark_df[shark_df.Age.notnull()].Age.astype(int).median())\n",
    "age_median"
   ]
  },
  {
   "cell_type": "code",
   "execution_count": 20,
   "metadata": {},
   "outputs": [],
   "source": [
    "# atribuindo para os valores missings a mediana das idades\n",
    "shark_df.Age.fillna(age_median, inplace=True)"
   ]
  },
  {
   "cell_type": "code",
   "execution_count": 21,
   "metadata": {},
   "outputs": [
    {
     "name": "stdout",
     "output_type": "stream",
     "text": [
      "<class 'pandas.core.frame.DataFrame'>\n",
      "Index: 657 entries, 1 to 50s\n",
      "Data columns (total 7 columns):\n",
      " #   Column    Non-Null Count  Dtype  \n",
      "---  ------    --------------  -----  \n",
      " 0   Year      655 non-null    float64\n",
      " 1   Country   654 non-null    object \n",
      " 2   Area      651 non-null    object \n",
      " 3   Location  650 non-null    object \n",
      " 4   Activity  655 non-null    object \n",
      " 5   Sex       655 non-null    object \n",
      " 6   Age       657 non-null    float64\n",
      "dtypes: float64(2), object(5)\n",
      "memory usage: 61.1+ KB\n"
     ]
    }
   ],
   "source": [
    "#checando as alterações no dataframe\n",
    "shark_df.info()"
   ]
  },
  {
   "cell_type": "markdown",
   "metadata": {},
   "source": [
    "**Limpando a coluna Location**"
   ]
  },
  {
   "cell_type": "code",
   "execution_count": 22,
   "metadata": {},
   "outputs": [
    {
     "data": {
      "text/plain": [
       "New Smyrna Beach, Volusia County                 87\n",
       "Ponce Inlet, Volusia County                       9\n",
       "Ponce Inlet, New Smyrna Beach, Volusia County     8\n",
       "Melbourne Beach, Brevard County                   6\n",
       "Daytona Beach, Volusia County                     5\n",
       "                                                 ..\n",
       "Guarajuba                                         1\n",
       "Clifton Beach                                     1\n",
       "Bittern                                           1\n",
       "Stuart Rocks, Martin County                       1\n",
       "Kawa'a                                            1\n",
       "Name: Location, Length: 472, dtype: int64"
      ]
     },
     "execution_count": 22,
     "metadata": {},
     "output_type": "execute_result"
    }
   ],
   "source": [
    "# considerando os casos geograficos (Country, Area, Location)\n",
    "# vamos iniciar eliminando os valores nulos na menor granulometria do drill down\n",
    "\n",
    "shark_df = shark_df.dropna(subset=['Location']).copy()\n",
    "shark_df.Location.value_counts()"
   ]
  },
  {
   "cell_type": "markdown",
   "metadata": {},
   "source": [
    "**Limpando a coluna Area**"
   ]
  },
  {
   "cell_type": "code",
   "execution_count": 23,
   "metadata": {},
   "outputs": [
    {
     "data": {
      "text/plain": [
       "229     True\n",
       "388     True\n",
       "1603    True\n",
       "Name: Area, dtype: bool"
      ]
     },
     "execution_count": 23,
     "metadata": {},
     "output_type": "execute_result"
    }
   ],
   "source": [
    "# criando uma mascara para verificar em quais linhas estão os valores nulos da coluna Area\n",
    "mask1 = shark_df.Area.isnull()\n",
    "mask2 = mask1[mask1 == True]\n",
    "mask2"
   ]
  },
  {
   "cell_type": "code",
   "execution_count": 24,
   "metadata": {},
   "outputs": [
    {
     "name": "stdout",
     "output_type": "stream",
     "text": [
      "Boucan Canot\n",
      "St. Leu\n",
      "Punta Caracas\n"
     ]
    }
   ],
   "source": [
    "# Verificando qual a localização correspondente dos valores missings da Area\n",
    "print(shark_df.Location[229])\n",
    "print(shark_df.Location[388])\n",
    "print(shark_df.Location[1603])"
   ]
  },
  {
   "cell_type": "code",
   "execution_count": 25,
   "metadata": {},
   "outputs": [],
   "source": [
    "# Atribuindo a coluna Area os valores correspondentes da coluna Location\n",
    "shark_df.loc[229, 'Area'] = 'Saint Gilles'\n",
    "shark_df.loc[388, 'Area'] = 'Saint Gilles'\n",
    "shark_df.loc[1603, 'Area'] = 'Punta Caracas'"
   ]
  },
  {
   "cell_type": "code",
   "execution_count": 26,
   "metadata": {},
   "outputs": [
    {
     "data": {
      "text/plain": [
       "0"
      ]
     },
     "execution_count": 26,
     "metadata": {},
     "output_type": "execute_result"
    }
   ],
   "source": [
    "# verificando se todos os valores nulos foram tratados\n",
    "shark_df.Area.isnull().sum()"
   ]
  },
  {
   "cell_type": "code",
   "execution_count": 27,
   "metadata": {
    "scrolled": true
   },
   "outputs": [
    {
     "data": {
      "text/plain": [
       "array(['Georgia', 'Hawaii', 'New South Wales', 'Florida',\n",
       "       'Eastern Cape Province', 'Western Australia', 'New Providence',\n",
       "       'Victoria', 'Fernando de Noronha', 'California', 'New York',\n",
       "       'Shizuoka Prefecture', 'Ascension Island', 'Washington',\n",
       "       'Marquesas', 'Western Cape Province', 'South Carolina', 'Bali',\n",
       "       'Queensland', 'Oregon', 'Saint Gilles', 'Kochi Prefecture',\n",
       "       'Tasmania', 'North Carolina', 'Guanacaste', 'Le Port',\n",
       "       'South Australia', 'Saint-Gilles-les-Bains', 'Pernambuco',\n",
       "       'Delaware', 'Atsumi peninsula', 'South Island',\n",
       "       'Santa Cruz Island', 'British Colombia', 'North Island',\n",
       "       'Santa Elena', 'Moray', 'Puerto Rico', 'Society Islands',\n",
       "       'Saint-Gilles', 'Saint Gilles ', 'Vitu Levu', 'Abaco Islands',\n",
       "       'Virginia', 'Texas', 'Saint-Benoit', 'Rio Grande Do Sul', 'Dubai',\n",
       "       'Western Province', 'Eastern Province', 'KwaZulu-Natal',\n",
       "       'South Province', 'Galapagos Islands', 'Bahia', 'Guerro',\n",
       "       'Baja California', 'Saint-Pierre', 'Simpson Bay', 'New Jersey',\n",
       "       'Punta Caracas', 'Saint-Benoît',\n",
       "       'South Island, near Karitane north of Dunedin', 'Rocha',\n",
       "       'Nueva Esparta', 'North Pacific coast', 'Cook Islands',\n",
       "       'Miyako Island', 'Madang Province'], dtype=object)"
      ]
     },
     "execution_count": 27,
     "metadata": {},
     "output_type": "execute_result"
    }
   ],
   "source": [
    "# Verificando os valores distintos da coluna Area e checando se existe algum erro\n",
    "shark_df.Area.unique()"
   ]
  },
  {
   "cell_type": "markdown",
   "metadata": {},
   "source": [
    "**Limpando a coluna Country**"
   ]
  },
  {
   "cell_type": "code",
   "execution_count": 28,
   "metadata": {},
   "outputs": [
    {
     "data": {
      "text/plain": [
       "0"
      ]
     },
     "execution_count": 28,
     "metadata": {},
     "output_type": "execute_result"
    }
   ],
   "source": [
    "# verificando se a coluna Country possuí valores nulos\n",
    "shark_df.Country.isnull().sum()"
   ]
  },
  {
   "cell_type": "code",
   "execution_count": 29,
   "metadata": {},
   "outputs": [
    {
     "data": {
      "text/plain": [
       "array(['USA', 'AUSTRALIA', 'SOUTH AFRICA', 'BAHAMAS', 'BRAZIL', 'JAPAN',\n",
       "       'ST HELENA, British overseas territory', 'FRENCH POLYNESIA',\n",
       "       'INDONESIA', 'REUNION', 'COSTA RICA', 'NEW ZEALAND', 'ECUADOR',\n",
       "       'CANADA', 'SCOTLAND', 'FIJI', 'UNITED ARAB EMIRATES (UAE)',\n",
       "       'NEW CALEDONIA', 'MEXICO', 'ST. MAARTIN', 'MEXICO ', 'VENEZUELA',\n",
       "       'URUGUAY', 'OKINAWA', 'PAPUA NEW GUINEA'], dtype=object)"
      ]
     },
     "execution_count": 29,
     "metadata": {},
     "output_type": "execute_result"
    }
   ],
   "source": [
    "#verificando os valores distintos da coluna e verificando algum erro aparente\n",
    "shark_df.Country.unique()"
   ]
  },
  {
   "cell_type": "code",
   "execution_count": 41,
   "metadata": {},
   "outputs": [],
   "source": [
    "# Mexico aparece duas vezes na lista, e Japão e Okinawa estão separados\n",
    "# Para corrigir o erro vamos substituir os valores com o metodo replace\n",
    "\n",
    "shark_df['Country'].replace(['OKINAWA'], 'JAPAN', inplace = True)\n",
    "\n",
    "shark_df['Country'].replace(['MEXICO '], 'MEXICO', inplace = True)"
   ]
  },
  {
   "cell_type": "code",
   "execution_count": 42,
   "metadata": {},
   "outputs": [
    {
     "data": {
      "text/plain": [
       "array(['USA', 'AUSTRALIA', 'SOUTH AFRICA', 'BAHAMAS', 'BRAZIL', 'JAPAN',\n",
       "       'ST HELENA, British overseas territory', 'FRENCH POLYNESIA',\n",
       "       'INDONESIA', 'REUNION', 'COSTA RICA', 'NEW ZEALAND', 'ECUADOR',\n",
       "       'CANADA', 'SCOTLAND', 'FIJI', 'UNITED ARAB EMIRATES (UAE)',\n",
       "       'NEW CALEDONIA', 'MEXICO', 'ST. MAARTIN', 'VENEZUELA', 'URUGUAY',\n",
       "       'PAPUA NEW GUINEA'], dtype=object)"
      ]
     },
     "execution_count": 42,
     "metadata": {},
     "output_type": "execute_result"
    }
   ],
   "source": [
    "# Verificando se os valores foram corrigidos\n",
    "shark_df.Country.unique()"
   ]
  },
  {
   "cell_type": "markdown",
   "metadata": {},
   "source": [
    "**Conferindo as informações gerais do Dataframe limpo**"
   ]
  },
  {
   "cell_type": "code",
   "execution_count": 46,
   "metadata": {},
   "outputs": [
    {
     "data": {
      "text/plain": [
       "Year          0\n",
       "Country       0\n",
       "Area          0\n",
       "Location      0\n",
       "Activity      0\n",
       "Sex           0\n",
       "Age           0\n",
       "MEXICO      649\n",
       "OKINAWA     649\n",
       "dtype: int64"
      ]
     },
     "execution_count": 46,
     "metadata": {},
     "output_type": "execute_result"
    }
   ],
   "source": [
    "# verificando se ainda temos valores nulos no Dataframe\n",
    "shark_df.isnull().sum()"
   ]
  },
  {
   "cell_type": "code",
   "execution_count": 50,
   "metadata": {},
   "outputs": [
    {
     "name": "stdout",
     "output_type": "stream",
     "text": [
      "<class 'pandas.core.frame.DataFrame'>\n",
      "Index: 650 entries, 1 to 2075\n",
      "Data columns (total 9 columns):\n",
      " #   Column    Non-Null Count  Dtype  \n",
      "---  ------    --------------  -----  \n",
      " 0   Year      650 non-null    float64\n",
      " 1   Country   650 non-null    object \n",
      " 2   Area      650 non-null    object \n",
      " 3   Location  650 non-null    object \n",
      " 4   Activity  650 non-null    object \n",
      " 5   Sex       650 non-null    object \n",
      " 6   Age       650 non-null    float64\n",
      " 7   MEXICO    1 non-null      object \n",
      " 8   OKINAWA   1 non-null      object \n",
      "dtypes: float64(2), object(7)\n",
      "memory usage: 70.8+ KB\n"
     ]
    }
   ],
   "source": [
    "# foi observado a criação das colunas 'MEXICO ' e 'OKINAWA'\n",
    "# por isso vamos verificar as informações do dataframe\n",
    "\n",
    "shark_df.info()"
   ]
  },
  {
   "cell_type": "code",
   "execution_count": 53,
   "metadata": {},
   "outputs": [],
   "source": [
    "# não tivemos alterações no número de linhas do dataframe\n",
    "# vamos eliminar as colunas 'MEXICO ' e 'OKINAWA'\n",
    "\n",
    "shark_df.drop(columns=['MEXICO ', 'OKINAWA'], inplace=True)"
   ]
  },
  {
   "cell_type": "code",
   "execution_count": 72,
   "metadata": {},
   "outputs": [
    {
     "name": "stdout",
     "output_type": "stream",
     "text": [
      "<class 'pandas.core.frame.DataFrame'>\n",
      "Index: 650 entries, 1 to 2075\n",
      "Data columns (total 7 columns):\n",
      " #   Column    Non-Null Count  Dtype  \n",
      "---  ------    --------------  -----  \n",
      " 0   Year      650 non-null    float64\n",
      " 1   Country   650 non-null    object \n",
      " 2   Area      650 non-null    object \n",
      " 3   Location  650 non-null    object \n",
      " 4   Activity  650 non-null    object \n",
      " 5   Sex       650 non-null    object \n",
      " 6   Age       650 non-null    float64\n",
      "dtypes: float64(2), object(5)\n",
      "memory usage: 60.6+ KB\n"
     ]
    }
   ],
   "source": [
    "# verificando se a correção foi aplicada\n",
    "shark_df.info()"
   ]
  },
  {
   "cell_type": "code",
   "execution_count": 57,
   "metadata": {},
   "outputs": [
    {
     "data": {
      "text/html": [
       "<div>\n",
       "<style scoped>\n",
       "    .dataframe tbody tr th:only-of-type {\n",
       "        vertical-align: middle;\n",
       "    }\n",
       "\n",
       "    .dataframe tbody tr th {\n",
       "        vertical-align: top;\n",
       "    }\n",
       "\n",
       "    .dataframe thead th {\n",
       "        text-align: right;\n",
       "    }\n",
       "</style>\n",
       "<table border=\"1\" class=\"dataframe\">\n",
       "  <thead>\n",
       "    <tr style=\"text-align: right;\">\n",
       "      <th></th>\n",
       "      <th>Year</th>\n",
       "      <th>Country</th>\n",
       "      <th>Area</th>\n",
       "      <th>Location</th>\n",
       "      <th>Activity</th>\n",
       "      <th>Sex</th>\n",
       "      <th>Age</th>\n",
       "    </tr>\n",
       "  </thead>\n",
       "  <tbody>\n",
       "    <tr>\n",
       "      <th>1</th>\n",
       "      <td>2018.0</td>\n",
       "      <td>USA</td>\n",
       "      <td>Georgia</td>\n",
       "      <td>St. Simon Island, Glynn County</td>\n",
       "      <td>Standing</td>\n",
       "      <td>F</td>\n",
       "      <td>11.0</td>\n",
       "    </tr>\n",
       "    <tr>\n",
       "      <th>2</th>\n",
       "      <td>2018.0</td>\n",
       "      <td>USA</td>\n",
       "      <td>Hawaii</td>\n",
       "      <td>Habush, Oahu</td>\n",
       "      <td>Surfing</td>\n",
       "      <td>M</td>\n",
       "      <td>48.0</td>\n",
       "    </tr>\n",
       "    <tr>\n",
       "      <th>3</th>\n",
       "      <td>2018.0</td>\n",
       "      <td>AUSTRALIA</td>\n",
       "      <td>New South Wales</td>\n",
       "      <td>Arrawarra Headland</td>\n",
       "      <td>Surfing</td>\n",
       "      <td>M</td>\n",
       "      <td>25.0</td>\n",
       "    </tr>\n",
       "    <tr>\n",
       "      <th>9</th>\n",
       "      <td>2018.0</td>\n",
       "      <td>USA</td>\n",
       "      <td>Florida</td>\n",
       "      <td>Daytona Beach, Volusia County</td>\n",
       "      <td>Standing</td>\n",
       "      <td>M</td>\n",
       "      <td>12.0</td>\n",
       "    </tr>\n",
       "    <tr>\n",
       "      <th>15</th>\n",
       "      <td>2018.0</td>\n",
       "      <td>SOUTH AFRICA</td>\n",
       "      <td>Eastern Cape Province</td>\n",
       "      <td>Nahoon Beach, East London</td>\n",
       "      <td>Surfing</td>\n",
       "      <td>M</td>\n",
       "      <td>25.0</td>\n",
       "    </tr>\n",
       "    <tr>\n",
       "      <th>...</th>\n",
       "      <td>...</td>\n",
       "      <td>...</td>\n",
       "      <td>...</td>\n",
       "      <td>...</td>\n",
       "      <td>...</td>\n",
       "      <td>...</td>\n",
       "      <td>...</td>\n",
       "    </tr>\n",
       "    <tr>\n",
       "      <th>2056</th>\n",
       "      <td>2000.0</td>\n",
       "      <td>PAPUA NEW GUINEA</td>\n",
       "      <td>Madang Province</td>\n",
       "      <td>Long Island near Madang, about 500 km (310 mil...</td>\n",
       "      <td>Standing</td>\n",
       "      <td>M</td>\n",
       "      <td>9.0</td>\n",
       "    </tr>\n",
       "    <tr>\n",
       "      <th>2063</th>\n",
       "      <td>2000.0</td>\n",
       "      <td>USA</td>\n",
       "      <td>Florida</td>\n",
       "      <td>Floridana Beach, Brevard County</td>\n",
       "      <td>Surfing</td>\n",
       "      <td>M</td>\n",
       "      <td>37.0</td>\n",
       "    </tr>\n",
       "    <tr>\n",
       "      <th>2065</th>\n",
       "      <td>2000.0</td>\n",
       "      <td>AUSTRALIA</td>\n",
       "      <td>New South Wales</td>\n",
       "      <td>McMasters Beach, Central Coast</td>\n",
       "      <td>Surfing</td>\n",
       "      <td>M</td>\n",
       "      <td>25.0</td>\n",
       "    </tr>\n",
       "    <tr>\n",
       "      <th>2074</th>\n",
       "      <td>2000.0</td>\n",
       "      <td>NEW ZEALAND</td>\n",
       "      <td>South Island</td>\n",
       "      <td>Oreti Beach (reported as the 4th person bitten...</td>\n",
       "      <td>Surfing</td>\n",
       "      <td>M</td>\n",
       "      <td>12.0</td>\n",
       "    </tr>\n",
       "    <tr>\n",
       "      <th>2075</th>\n",
       "      <td>2000.0</td>\n",
       "      <td>AUSTRALIA</td>\n",
       "      <td>South Australia</td>\n",
       "      <td>Point Sinclair, Cactus Beach near Penong</td>\n",
       "      <td>Surfing</td>\n",
       "      <td>M</td>\n",
       "      <td>26.0</td>\n",
       "    </tr>\n",
       "  </tbody>\n",
       "</table>\n",
       "<p>650 rows × 7 columns</p>\n",
       "</div>"
      ],
      "text/plain": [
       "        Year           Country                   Area  \\\n",
       "1     2018.0               USA                Georgia   \n",
       "2     2018.0               USA                 Hawaii   \n",
       "3     2018.0         AUSTRALIA        New South Wales   \n",
       "9     2018.0               USA                Florida   \n",
       "15    2018.0      SOUTH AFRICA  Eastern Cape Province   \n",
       "...      ...               ...                    ...   \n",
       "2056  2000.0  PAPUA NEW GUINEA        Madang Province   \n",
       "2063  2000.0               USA                Florida   \n",
       "2065  2000.0         AUSTRALIA        New South Wales   \n",
       "2074  2000.0       NEW ZEALAND           South Island   \n",
       "2075  2000.0         AUSTRALIA        South Australia   \n",
       "\n",
       "                                               Location  Activity Sex   Age  \n",
       "1                        St. Simon Island, Glynn County  Standing   F  11.0  \n",
       "2                                          Habush, Oahu   Surfing   M  48.0  \n",
       "3                                    Arrawarra Headland   Surfing   M  25.0  \n",
       "9                         Daytona Beach, Volusia County  Standing   M  12.0  \n",
       "15                            Nahoon Beach, East London   Surfing   M  25.0  \n",
       "...                                                 ...       ...  ..   ...  \n",
       "2056  Long Island near Madang, about 500 km (310 mil...  Standing   M   9.0  \n",
       "2063                    Floridana Beach, Brevard County   Surfing   M  37.0  \n",
       "2065                     McMasters Beach, Central Coast   Surfing   M  25.0  \n",
       "2074  Oreti Beach (reported as the 4th person bitten...   Surfing   M  12.0  \n",
       "2075           Point Sinclair, Cactus Beach near Penong   Surfing   M  26.0  \n",
       "\n",
       "[650 rows x 7 columns]"
      ]
     },
     "execution_count": 57,
     "metadata": {},
     "output_type": "execute_result"
    }
   ],
   "source": [
    "# visualizando o dataframe\n",
    "\n",
    "shark_df"
   ]
  },
  {
   "cell_type": "markdown",
   "metadata": {},
   "source": [
    "Respondendo a primeira pergunta:\n",
    "\n",
    "**Dentre as cidades analisadas no Banco de Dados, qual a melhor localização para abrir uma fábrica de pranchas?**\n"
   ]
  },
  {
   "cell_type": "code",
   "execution_count": 60,
   "metadata": {},
   "outputs": [
    {
     "data": {
      "text/plain": [
       "New Smyrna Beach, Volusia County                                 87\n",
       "Ponce Inlet, Volusia County                                       9\n",
       "Ponce Inlet, New Smyrna Beach, Volusia County                     8\n",
       "Melbourne Beach, Brevard County                                   6\n",
       "Daytona Beach, Volusia County                                     5\n",
       "Nahoon, East London                                               5\n",
       "San Onofre State Beach, San Diego County                          4\n",
       "Ormond Beach, Volusia County                                      4\n",
       "Balian                                                            4\n",
       "Playalinda Beach, Canaveral National Seashore, Brevard County     4\n",
       "Name: Location, dtype: int64"
      ]
     },
     "execution_count": 60,
     "metadata": {},
     "output_type": "execute_result"
    }
   ],
   "source": [
    "# Vamos utilizar a coluna Location para identificar as 10 regiões com maior número de casos\n",
    "shark_df.Location.value_counts().head(10)"
   ]
  },
  {
   "cell_type": "code",
   "execution_count": 95,
   "metadata": {},
   "outputs": [
    {
     "name": "stdout",
     "output_type": "stream",
     "text": [
      "132\n"
     ]
    }
   ],
   "source": [
    "# Verificamos que a região de Volusia County aparece com frequencia no top 10\n",
    "# por isso vamos analisar quantos incidentes ocorreram naquela região\n",
    "\n",
    "var_list = list(shark_df.Location.values)\n",
    "\n",
    "# Vamos utilizar REGEX para contabilizar quantas casos ocorreram nessa região\n",
    "import re\n",
    "\n",
    "\n",
    "n_list=list(map(lambda x: re.findall('[V][o][l][u][s][i][a][ ][C][o][u][n][t][y]', x), var_list))\n",
    "\n",
    "volusia_count = []\n",
    "\n",
    "for i in n_list:\n",
    "    if i == ['Volusia County']:\n",
    "       volusia_count.append(i)\n",
    "    \n",
    "print(len(volusia_count))"
   ]
  },
  {
   "cell_type": "code",
   "execution_count": 97,
   "metadata": {},
   "outputs": [
    {
     "data": {
      "text/plain": [
       "USA                                      387\n",
       "AUSTRALIA                                146\n",
       "SOUTH AFRICA                              43\n",
       "BRAZIL                                    13\n",
       "REUNION                                   10\n",
       "NEW ZEALAND                                9\n",
       "MEXICO                                     6\n",
       "INDONESIA                                  6\n",
       "ECUADOR                                    4\n",
       "JAPAN                                      4\n",
       "COSTA RICA                                 4\n",
       "BAHAMAS                                    3\n",
       "VENEZUELA                                  2\n",
       "NEW CALEDONIA                              2\n",
       "FRENCH POLYNESIA                           2\n",
       "FIJI                                       2\n",
       "SCOTLAND                                   1\n",
       "ST HELENA, British overseas territory      1\n",
       "CANADA                                     1\n",
       "ST. MAARTIN                                1\n",
       "URUGUAY                                    1\n",
       "PAPUA NEW GUINEA                           1\n",
       "UNITED ARAB EMIRATES (UAE)                 1\n",
       "Name: Country, dtype: int64"
      ]
     },
     "execution_count": 97,
     "metadata": {},
     "output_type": "execute_result"
    }
   ],
   "source": [
    "# observamos no top 10 que a segunda região com mais ataques fica localizada é Melbourne Beach, Brevard County\n",
    "# por isso vamos verificar se a Australia possuí mais que 132 registros\n",
    "\n",
    "shark_df.Country.value_counts()"
   ]
  },
  {
   "cell_type": "code",
   "execution_count": 101,
   "metadata": {},
   "outputs": [
    {
     "name": "stdout",
     "output_type": "stream",
     "text": [
      "34\n"
     ]
    }
   ],
   "source": [
    "# Como a Australia possuí 146 registros, vamos aplicar novamente o procedimento para Brevard County\n",
    "\n",
    "n2_list=list(map(lambda x: re.findall('[B][r][e][v][a][r][d][ ][C][o][u][n][t][y]', x), var_list))\n",
    "\n",
    "brevard_count = []\n",
    "\n",
    "for i in n2_list:\n",
    "    if i == ['Brevard County']:\n",
    "       brevard_count.append(i)\n",
    "    \n",
    "print(len(brevard_count))"
   ]
  },
  {
   "cell_type": "code",
   "execution_count": 108,
   "metadata": {},
   "outputs": [
    {
     "data": {
      "text/plain": [
       "20.31"
      ]
     },
     "execution_count": 108,
     "metadata": {},
     "output_type": "execute_result"
    }
   ],
   "source": [
    "#Pra finalizar as analises, vamos verificar a porcentagem correspondente dos casos em Volusia County\n",
    "\n",
    "porc = (len(volusia_count)/shark_df.Location.count())*100\n",
    "porc.round(2)"
   ]
  },
  {
   "cell_type": "markdown",
   "metadata": {},
   "source": [
    "**R:** Com 132 casos (20,31% dos registros), podemos afirmar que a região de Volusia County, localizada na Florida, é o local ideal para abrir uma fábrica de pranchas."
   ]
  },
  {
   "cell_type": "markdown",
   "metadata": {},
   "source": [
    " "
   ]
  },
  {
   "cell_type": "markdown",
   "metadata": {},
   "source": [
    " "
   ]
  },
  {
   "cell_type": "markdown",
   "metadata": {},
   "source": [
    "Definido em qual região vamos abrir a fábrica, podemos responder a segunda pergunta:\n",
    "\n",
    "**Qual o perfil do cliente que vamos direcionar as vendas?**\n"
   ]
  },
  {
   "cell_type": "code",
   "execution_count": 142,
   "metadata": {},
   "outputs": [
    {
     "data": {
      "text/plain": [
       "M    90.0\n",
       "F    10.0\n",
       "Name: Sex, dtype: float64"
      ]
     },
     "execution_count": 142,
     "metadata": {},
     "output_type": "execute_result"
    }
   ],
   "source": [
    "# Verificando a proporção entre homens e mulheres em todo o dataframe\n",
    "\n",
    "shark_df.Sex.value_counts(normalize=True).round(2)*100"
   ]
  },
  {
   "cell_type": "code",
   "execution_count": 143,
   "metadata": {},
   "outputs": [
    {
     "data": {
      "text/plain": [
       "M    88.0\n",
       "F    12.0\n",
       "Name: Sex, dtype: float64"
      ]
     },
     "execution_count": 143,
     "metadata": {},
     "output_type": "execute_result"
    }
   ],
   "source": [
    "# Verificando a proporção entre homens e mulheres na região da fábrica\n",
    "\n",
    "persona = shark_df.loc[shark_df['Area']=='Florida', 'Sex']\n",
    "persona.value_counts(normalize=True).round(2)*100"
   ]
  },
  {
   "cell_type": "code",
   "execution_count": 124,
   "metadata": {},
   "outputs": [
    {
     "data": {
      "text/plain": [
       "Sex\n",
       "F    24.0\n",
       "M    25.0\n",
       "Name: Age, dtype: float64"
      ]
     },
     "execution_count": 124,
     "metadata": {},
     "output_type": "execute_result"
    }
   ],
   "source": [
    "# Verificando a mediana das idades em todo o Dataframe\n",
    "\n",
    "shark_df.groupby('Sex')['Age'].median()"
   ]
  },
  {
   "cell_type": "code",
   "execution_count": 145,
   "metadata": {},
   "outputs": [
    {
     "data": {
      "text/html": [
       "<div>\n",
       "<style scoped>\n",
       "    .dataframe tbody tr th:only-of-type {\n",
       "        vertical-align: middle;\n",
       "    }\n",
       "\n",
       "    .dataframe tbody tr th {\n",
       "        vertical-align: top;\n",
       "    }\n",
       "\n",
       "    .dataframe thead th {\n",
       "        text-align: right;\n",
       "    }\n",
       "</style>\n",
       "<table border=\"1\" class=\"dataframe\">\n",
       "  <thead>\n",
       "    <tr style=\"text-align: right;\">\n",
       "      <th></th>\n",
       "      <th>Sex</th>\n",
       "      <th>age_median</th>\n",
       "    </tr>\n",
       "  </thead>\n",
       "  <tbody>\n",
       "    <tr>\n",
       "      <th>0</th>\n",
       "      <td>F</td>\n",
       "      <td>20.0</td>\n",
       "    </tr>\n",
       "    <tr>\n",
       "      <th>1</th>\n",
       "      <td>M</td>\n",
       "      <td>23.0</td>\n",
       "    </tr>\n",
       "  </tbody>\n",
       "</table>\n",
       "</div>"
      ],
      "text/plain": [
       "  Sex  age_median\n",
       "0   F        20.0\n",
       "1   M        23.0"
      ]
     },
     "execution_count": 145,
     "metadata": {},
     "output_type": "execute_result"
    }
   ],
   "source": [
    "# Verificando a mediana das idades na região da fábrica\n",
    "\n",
    "shark_df[shark_df['Area']=='Florida'].groupby(['Sex'], as_index=False).agg(age_median = ('Age','median'))"
   ]
  },
  {
   "cell_type": "markdown",
   "metadata": {},
   "source": [
    "**R:** Baseado nas analises acima, podemos dividir o perfil de clientes que compram as pranchas em dois grupos:\n",
    "\n",
    "- Mulheres de 20 a 25 anos\n",
    "- Homens de 20 a 25 anos\n",
    "\n",
    "Sendo que a persona criada pelos dados é:\n",
    "\n",
    "  **Homem de 23 anos de idade, morador da Florida**"
   ]
  }
 ],
 "metadata": {
  "kernelspec": {
   "display_name": "Python 3",
   "language": "python",
   "name": "python3"
  },
  "language_info": {
   "codemirror_mode": {
    "name": "ipython",
    "version": 3
   },
   "file_extension": ".py",
   "mimetype": "text/x-python",
   "name": "python",
   "nbconvert_exporter": "python",
   "pygments_lexer": "ipython3",
   "version": "3.8.5"
  }
 },
 "nbformat": 4,
 "nbformat_minor": 4
}
