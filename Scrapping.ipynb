{
 "cells": [
  {
   "cell_type": "markdown",
   "metadata": {},
   "source": [
    "# Web Scrapping"
   ]
  },
  {
   "cell_type": "markdown",
   "metadata": {},
   "source": [
    "## Instalando os pacotes"
   ]
  },
  {
   "cell_type": "code",
   "execution_count": 1,
   "metadata": {
    "scrolled": true
   },
   "outputs": [
    {
     "name": "stdout",
     "output_type": "stream",
     "text": [
      "Requirement already satisfied: requests in c:\\users\\vscas\\anaconda3\\lib\\site-packages (2.26.0)\n",
      "Requirement already satisfied: charset-normalizer~=2.0.0; python_version >= \"3\" in c:\\users\\vscas\\anaconda3\\lib\\site-packages (from requests) (2.0.6)\n",
      "Requirement already satisfied: urllib3<1.27,>=1.21.1 in c:\\users\\vscas\\anaconda3\\lib\\site-packages (from requests) (1.26.7)\n",
      "Requirement already satisfied: certifi>=2017.4.17 in c:\\users\\vscas\\anaconda3\\lib\\site-packages (from requests) (2020.6.20)\n",
      "Requirement already satisfied: idna<4,>=2.5; python_version >= \"3\" in c:\\users\\vscas\\anaconda3\\lib\\site-packages (from requests) (2.10)\n"
     ]
    }
   ],
   "source": [
    "! pip3 install requests"
   ]
  },
  {
   "cell_type": "code",
   "execution_count": 2,
   "metadata": {},
   "outputs": [],
   "source": [
    "from bs4 import BeautifulSoup\n",
    "import requests\n",
    "import pandas as pd"
   ]
  },
  {
   "cell_type": "markdown",
   "metadata": {},
   "source": [
    "### Se conectandocom o Website"
   ]
  },
  {
   "cell_type": "code",
   "execution_count": 3,
   "metadata": {},
   "outputs": [],
   "source": [
    "url = 'https://www.ogol.com.br/team_stats_compare.php?tpstat=48&id_edicao=154298'"
   ]
  },
  {
   "cell_type": "code",
   "execution_count": 4,
   "metadata": {},
   "outputs": [
    {
     "data": {
      "text/plain": [
       "<Response [200]>"
      ]
     },
     "execution_count": 4,
     "metadata": {},
     "output_type": "execute_result"
    }
   ],
   "source": [
    "response = requests.get(url)\n",
    "response"
   ]
  },
  {
   "cell_type": "code",
   "execution_count": 5,
   "metadata": {},
   "outputs": [],
   "source": [
    "html_content = response.content"
   ]
  },
  {
   "cell_type": "code",
   "execution_count": 6,
   "metadata": {},
   "outputs": [],
   "source": [
    "soup = BeautifulSoup(html_content, \"lxml\")"
   ]
  },
  {
   "cell_type": "markdown",
   "metadata": {},
   "source": [
    "### Realizando o Scrapping por Scout"
   ]
  },
  {
   "cell_type": "code",
   "execution_count": 8,
   "metadata": {},
   "outputs": [],
   "source": [
    "url_resultado = 'https://www.ogol.com.br/team_stats_compare.php?id_edicao=154298'\n",
    "df_list_resultado = pd.read_html(url_resultado)\n",
    "resultado = pd.DataFrame(df_list_resultado[1])"
   ]
  },
  {
   "cell_type": "code",
   "execution_count": 9,
   "metadata": {},
   "outputs": [],
   "source": [
    "url_posse = \"https://www.ogol.com.br/team_stats_compare.php?tpstat=48&id_edicao=154298\"\n",
    "df_list_posse = pd.read_html(url_posse)\n",
    "posse = pd.DataFrame(df_list_posse[1])"
   ]
  },
  {
   "cell_type": "code",
   "execution_count": 10,
   "metadata": {},
   "outputs": [],
   "source": [
    "url_gol = \"https://www.ogol.com.br/team_stats_compare.php?tpstat=golos&id_edicao=154298\"\n",
    "df_list_gol = pd.read_html(url_gol)\n",
    "gol = pd.DataFrame(df_list_gol[1])"
   ]
  },
  {
   "cell_type": "code",
   "execution_count": 11,
   "metadata": {},
   "outputs": [],
   "source": [
    "url_golc = \"https://www.ogol.com.br/team_stats_compare.php?tpstat=goloss&id_edicao=154298\"\n",
    "df_list_golc = pd.read_html(url_golc)\n",
    "golc = pd.DataFrame(df_list_golc[1])"
   ]
  },
  {
   "cell_type": "code",
   "execution_count": 12,
   "metadata": {},
   "outputs": [],
   "source": [
    "url_chute = \"https://www.ogol.com.br/team_stats_compare.php?tpstat=18&id_edicao=154298\"\n",
    "df_list_chute = pd.read_html(url_chute)\n",
    "chute = pd.DataFrame(df_list_chute[1])"
   ]
  },
  {
   "cell_type": "code",
   "execution_count": 13,
   "metadata": {},
   "outputs": [],
   "source": [
    "url_falta = \"https://www.ogol.com.br/team_stats_compare.php?tpstat=19&id_edicao=154298\"\n",
    "df_list_falta = pd.read_html(url_falta)\n",
    "falta = pd.DataFrame(df_list_falta[1])"
   ]
  },
  {
   "cell_type": "code",
   "execution_count": 14,
   "metadata": {},
   "outputs": [],
   "source": [
    "url_escanteio = \"https://www.ogol.com.br/team_stats_compare.php?tpstat=20&id_edicao=154298\"\n",
    "df_list_escanteio = pd.read_html(url_escanteio)\n",
    "escanteio = pd.DataFrame(df_list_escanteio[1])"
   ]
  },
  {
   "cell_type": "code",
   "execution_count": 15,
   "metadata": {},
   "outputs": [],
   "source": [
    "url_impedimento = \"https://www.ogol.com.br/team_stats_compare.php?tpstat=21&id_edicao=154298\"\n",
    "df_list_impedimento = pd.read_html(url_impedimento)\n",
    "impedimento = pd.DataFrame(df_list_impedimento[1])"
   ]
  },
  {
   "cell_type": "code",
   "execution_count": 16,
   "metadata": {},
   "outputs": [],
   "source": [
    "url_chute_no_gol = \"https://www.ogol.com.br/team_stats_compare.php?tpstat=47&id_edicao=154298\"\n",
    "df_list_chute_no_gol = pd.read_html(url_chute_no_gol)\n",
    "chute_no_gol = pd.DataFrame(df_list_chute_no_gol[1])"
   ]
  },
  {
   "cell_type": "code",
   "execution_count": 17,
   "metadata": {},
   "outputs": [],
   "source": [
    "url_passe_certo = \"https://www.ogol.com.br/team_stats_compare.php?tpstat=53&id_edicao=154298\"\n",
    "df_list_passe_certo = pd.read_html(url_passe_certo)\n",
    "passe_certo = pd.DataFrame(df_list_passe_certo[1])"
   ]
  },
  {
   "cell_type": "code",
   "execution_count": 18,
   "metadata": {},
   "outputs": [],
   "source": [
    "url_total_passe = \"https://www.ogol.com.br/team_stats_compare.php?tpstat=54&id_edicao=154298\"\n",
    "df_list_total_passe = pd.read_html(url_total_passe)\n",
    "total_passe = pd.DataFrame(df_list_total_passe[1])"
   ]
  },
  {
   "cell_type": "code",
   "execution_count": 19,
   "metadata": {},
   "outputs": [],
   "source": [
    "url_divididas = \"https://www.ogol.com.br/team_stats_compare.php?tpstat=55&id_edicao=154298\"\n",
    "df_list_divididas = pd.read_html(url_divididas)\n",
    "divididas = pd.DataFrame(df_list_divididas[1])"
   ]
  },
  {
   "cell_type": "code",
   "execution_count": 20,
   "metadata": {},
   "outputs": [],
   "source": [
    "url_defesas = \"https://www.ogol.com.br/team_stats_compare.php?tpstat=56&id_edicao=154298\"\n",
    "df_list_defesas = pd.read_html(url_defesas)\n",
    "defesas = pd.DataFrame(df_list_defesas[1])"
   ]
  },
  {
   "cell_type": "code",
   "execution_count": 21,
   "metadata": {},
   "outputs": [],
   "source": [
    "url_faltas_sofridas = \"https://www.ogol.com.br/team_stats_compare.php?tpstat=57&id_edicao=154298\"\n",
    "df_list_faltas_sofridas = pd.read_html(url_faltas_sofridas)\n",
    "faltas_sofridas = pd.DataFrame(df_list_faltas_sofridas[1])"
   ]
  },
  {
   "cell_type": "code",
   "execution_count": 22,
   "metadata": {},
   "outputs": [],
   "source": [
    "url_chutes_fora = \"https://www.ogol.com.br/team_stats_compare.php?tpstat=58&id_edicao=154298\"\n",
    "df_list_chutes_fora = pd.read_html(url_chutes_fora)\n",
    "chutes_fora = pd.DataFrame(df_list_chutes_fora[1])"
   ]
  },
  {
   "cell_type": "code",
   "execution_count": 23,
   "metadata": {},
   "outputs": [],
   "source": [
    "url_tiro_meta = \"https://www.ogol.com.br/team_stats_compare.php?tpstat=59&id_edicao=154298\"\n",
    "df_list_tiro_meta = pd.read_html(url_tiro_meta)\n",
    "tiro_meta = pd.DataFrame(df_list_tiro_meta[1])"
   ]
  },
  {
   "cell_type": "code",
   "execution_count": 25,
   "metadata": {},
   "outputs": [],
   "source": [
    "url_divididas_ganhas = \"https://www.ogol.com.br/team_stats_compare.php?tpstat=60&id_edicao=154298\"\n",
    "df_list_divididas_ganhas = pd.read_html(url_divididas_ganhas)\n",
    "divididas_ganhas = pd.DataFrame(df_list_divididas_ganhas[1])"
   ]
  },
  {
   "cell_type": "code",
   "execution_count": 26,
   "metadata": {},
   "outputs": [],
   "source": [
    "url_cortes = \"https://www.ogol.com.br/team_stats_compare.php?tpstat=61&id_edicao=154298\"\n",
    "df_list_cortes = pd.read_html(url_cortes)\n",
    "cortes = pd.DataFrame(df_list_cortes[1])"
   ]
  },
  {
   "cell_type": "code",
   "execution_count": 27,
   "metadata": {},
   "outputs": [],
   "source": [
    "url_lançamentos = \"https://www.ogol.com.br/team_stats_compare.php?tpstat=62&id_edicao=154298\"\n",
    "df_lançamentos = pd.read_html(url_lançamentos)\n",
    "lançamentos = pd.DataFrame(df_lançamentos[1])"
   ]
  },
  {
   "cell_type": "code",
   "execution_count": 28,
   "metadata": {},
   "outputs": [],
   "source": [
    "url_chutes_bloqueados = \"https://www.ogol.com.br/team_stats_compare.php?tpstat=63&id_edicao=154298\"\n",
    "df_chutes_bloqueados = pd.read_html(url_chutes_bloqueados)\n",
    "chutes_bloqueados = pd.DataFrame(df_chutes_bloqueados[1])"
   ]
  },
  {
   "cell_type": "markdown",
   "metadata": {},
   "source": [
    "### Criando o Dataframe por Scout"
   ]
  },
  {
   "cell_type": "code",
   "execution_count": 29,
   "metadata": {},
   "outputs": [],
   "source": [
    "resultado_df = resultado.melt(id_vars='Unnamed: 0', var_name= 'Rodada', value_name='Resultado')\n",
    "\n",
    "posse_df = posse.melt(id_vars='Unnamed: 0', var_name= 'Rodada', value_name='Posse de Bola')\n",
    "\n",
    "gol_df = gol.melt(id_vars='Unnamed: 0', var_name= 'Rodada', value_name='Gols Feitos')\n",
    "\n",
    "golc_df = golc.melt(id_vars='Unnamed: 0', var_name= 'Rodada', value_name='Gols Sofridos')\n",
    "\n",
    "chute_df = chute.melt(id_vars='Unnamed: 0', var_name= 'Rodada', value_name='Total de Chutes')\n",
    "\n",
    "falta_df = falta.melt(id_vars='Unnamed: 0', var_name= 'Rodada', value_name='Faltas Cometidas')\n",
    "\n",
    "escanteio_df = escanteio.melt(id_vars='Unnamed: 0', var_name= 'Rodada', value_name='Escanteio')\n",
    "\n",
    "impedimento_df = impedimento.melt(id_vars='Unnamed: 0', var_name= 'Rodada', value_name='Impedimento')\n",
    "\n",
    "chute_no_gol_df = chute_no_gol.melt(id_vars='Unnamed: 0', var_name= 'Rodada', value_name='Chute ao Gol')\n",
    "\n",
    "passe_certo_df = passe_certo.melt(id_vars='Unnamed: 0', var_name= 'Rodada', value_name='Passes Certos')\n",
    "\n",
    "total_passe_df = total_passe.melt(id_vars='Unnamed: 0', var_name= 'Rodada', value_name='Total de Passes')\n",
    "\n",
    "defesas_df = defesas.melt(id_vars='Unnamed: 0', var_name= 'Rodada', value_name='Defesas')\n",
    "\n",
    "faltas_sofridas_df = faltas_sofridas.melt(id_vars='Unnamed: 0', var_name= 'Rodada', value_name='Faltas sofridas')\n",
    "\n",
    "chutes_fora_df = chutes_fora.melt(id_vars='Unnamed: 0', var_name= 'Rodada', value_name='Chutes Errados')\n",
    "\n",
    "divididas_ganhas_df = divididas_ganhas.melt(id_vars='Unnamed: 0', var_name= 'Rodada', value_name='Divididas Ganhas')"
   ]
  },
  {
   "cell_type": "markdown",
   "metadata": {},
   "source": [
    "### Juntando os dataframes"
   ]
  },
  {
   "cell_type": "code",
   "execution_count": 30,
   "metadata": {},
   "outputs": [],
   "source": [
    "df_final = resultado_df.merge(posse_df, on = ['Unnamed: 0', 'Rodada']).merge(gol_df, on=['Unnamed: 0', 'Rodada']).merge(golc_df, on=['Unnamed: 0', 'Rodada']).merge(chute_df, on=['Unnamed: 0', 'Rodada']) .merge(falta_df, on=['Unnamed: 0', 'Rodada']) .merge(escanteio_df, on=['Unnamed: 0', 'Rodada']) .merge(impedimento_df, on=['Unnamed: 0', 'Rodada']) .merge(chute_no_gol_df, on=['Unnamed: 0', 'Rodada']) .merge(passe_certo_df, on=['Unnamed: 0', 'Rodada']) .merge(total_passe_df, on=['Unnamed: 0', 'Rodada']) .merge(defesas_df, on=['Unnamed: 0', 'Rodada']) .merge(faltas_sofridas_df, on=['Unnamed: 0', 'Rodada']) .merge(chutes_fora_df, on=['Unnamed: 0', 'Rodada']) .merge(divididas_ganhas_df, on=['Unnamed: 0', 'Rodada'])"
   ]
  },
  {
   "cell_type": "markdown",
   "metadata": {},
   "source": [
    "##### Renomeando a Primeira Coluna"
   ]
  },
  {
   "cell_type": "code",
   "execution_count": 31,
   "metadata": {},
   "outputs": [],
   "source": [
    "df_final.rename(columns={'Unnamed: 0':'Clube'}, inplace=True)"
   ]
  },
  {
   "cell_type": "markdown",
   "metadata": {},
   "source": [
    "##### Ordenando as linhas baseado na coluna Rodada"
   ]
  },
  {
   "cell_type": "code",
   "execution_count": 32,
   "metadata": {},
   "outputs": [],
   "source": [
    "nacional = df_final.sort_values('Rodada')"
   ]
  },
  {
   "cell_type": "markdown",
   "metadata": {},
   "source": [
    "##### Visualizando o DataFrame final"
   ]
  },
  {
   "cell_type": "code",
   "execution_count": 36,
   "metadata": {},
   "outputs": [
    {
     "data": {
      "text/html": [
       "<div>\n",
       "<style scoped>\n",
       "    .dataframe tbody tr th:only-of-type {\n",
       "        vertical-align: middle;\n",
       "    }\n",
       "\n",
       "    .dataframe tbody tr th {\n",
       "        vertical-align: top;\n",
       "    }\n",
       "\n",
       "    .dataframe thead th {\n",
       "        text-align: right;\n",
       "    }\n",
       "</style>\n",
       "<table border=\"1\" class=\"dataframe\">\n",
       "  <thead>\n",
       "    <tr style=\"text-align: right;\">\n",
       "      <th></th>\n",
       "      <th>Clube</th>\n",
       "      <th>Rodada</th>\n",
       "      <th>Resultado</th>\n",
       "      <th>Posse de Bola</th>\n",
       "      <th>Gols Feitos</th>\n",
       "      <th>Gols Sofridos</th>\n",
       "      <th>Total de Chutes</th>\n",
       "      <th>Faltas Cometidas</th>\n",
       "      <th>Escanteio</th>\n",
       "      <th>Impedimento</th>\n",
       "      <th>Chute ao Gol</th>\n",
       "      <th>Passes Certos</th>\n",
       "      <th>Total de Passes</th>\n",
       "      <th>Defesas</th>\n",
       "      <th>Faltas sofridas</th>\n",
       "      <th>Chutes Errados</th>\n",
       "      <th>Divididas Ganhas</th>\n",
       "    </tr>\n",
       "  </thead>\n",
       "  <tbody>\n",
       "    <tr>\n",
       "      <th>0</th>\n",
       "      <td>Santos</td>\n",
       "      <td>1</td>\n",
       "      <td>D</td>\n",
       "      <td>66.0</td>\n",
       "      <td>0.0</td>\n",
       "      <td>3.0</td>\n",
       "      <td>12.0</td>\n",
       "      <td>9.0</td>\n",
       "      <td>11.0</td>\n",
       "      <td>2.0</td>\n",
       "      <td>4.0</td>\n",
       "      <td>501.0</td>\n",
       "      <td>563.0</td>\n",
       "      <td>0.0</td>\n",
       "      <td>18.0</td>\n",
       "      <td>5.0</td>\n",
       "      <td>9.0</td>\n",
       "    </tr>\n",
       "    <tr>\n",
       "      <th>1</th>\n",
       "      <td>Ceará</td>\n",
       "      <td>1</td>\n",
       "      <td>V</td>\n",
       "      <td>35.0</td>\n",
       "      <td>3.0</td>\n",
       "      <td>2.0</td>\n",
       "      <td>12.0</td>\n",
       "      <td>17.0</td>\n",
       "      <td>5.0</td>\n",
       "      <td>2.0</td>\n",
       "      <td>6.0</td>\n",
       "      <td>196.0</td>\n",
       "      <td>277.0</td>\n",
       "      <td>1.0</td>\n",
       "      <td>17.0</td>\n",
       "      <td>5.0</td>\n",
       "      <td>3.0</td>\n",
       "    </tr>\n",
       "    <tr>\n",
       "      <th>2</th>\n",
       "      <td>Chapecoense</td>\n",
       "      <td>1</td>\n",
       "      <td>D</td>\n",
       "      <td>44.0</td>\n",
       "      <td>0.0</td>\n",
       "      <td>3.0</td>\n",
       "      <td>10.0</td>\n",
       "      <td>9.0</td>\n",
       "      <td>5.0</td>\n",
       "      <td>0.0</td>\n",
       "      <td>2.0</td>\n",
       "      <td>342.0</td>\n",
       "      <td>428.0</td>\n",
       "      <td>5.0</td>\n",
       "      <td>11.0</td>\n",
       "      <td>6.0</td>\n",
       "      <td>8.0</td>\n",
       "    </tr>\n",
       "    <tr>\n",
       "      <th>3</th>\n",
       "      <td>Fluminense</td>\n",
       "      <td>1</td>\n",
       "      <td>E</td>\n",
       "      <td>29.0</td>\n",
       "      <td>0.0</td>\n",
       "      <td>0.0</td>\n",
       "      <td>11.0</td>\n",
       "      <td>12.0</td>\n",
       "      <td>5.0</td>\n",
       "      <td>2.0</td>\n",
       "      <td>5.0</td>\n",
       "      <td>178.0</td>\n",
       "      <td>251.0</td>\n",
       "      <td>3.0</td>\n",
       "      <td>8.0</td>\n",
       "      <td>4.0</td>\n",
       "      <td>12.0</td>\n",
       "    </tr>\n",
       "    <tr>\n",
       "      <th>4</th>\n",
       "      <td>Sport</td>\n",
       "      <td>1</td>\n",
       "      <td>E</td>\n",
       "      <td>43.0</td>\n",
       "      <td>2.0</td>\n",
       "      <td>2.0</td>\n",
       "      <td>8.0</td>\n",
       "      <td>15.0</td>\n",
       "      <td>1.0</td>\n",
       "      <td>2.0</td>\n",
       "      <td>5.0</td>\n",
       "      <td>299.0</td>\n",
       "      <td>362.0</td>\n",
       "      <td>2.0</td>\n",
       "      <td>23.0</td>\n",
       "      <td>2.0</td>\n",
       "      <td>12.0</td>\n",
       "    </tr>\n",
       "    <tr>\n",
       "      <th>5</th>\n",
       "      <td>América Mineiro</td>\n",
       "      <td>1</td>\n",
       "      <td>D</td>\n",
       "      <td>44.0</td>\n",
       "      <td>0.0</td>\n",
       "      <td>1.0</td>\n",
       "      <td>14.0</td>\n",
       "      <td>9.0</td>\n",
       "      <td>1.0</td>\n",
       "      <td>NaN</td>\n",
       "      <td>4.0</td>\n",
       "      <td>351.0</td>\n",
       "      <td>429.0</td>\n",
       "      <td>4.0</td>\n",
       "      <td>17.0</td>\n",
       "      <td>6.0</td>\n",
       "      <td>5.0</td>\n",
       "    </tr>\n",
       "    <tr>\n",
       "      <th>6</th>\n",
       "      <td>Fortaleza</td>\n",
       "      <td>1</td>\n",
       "      <td>V</td>\n",
       "      <td>46.0</td>\n",
       "      <td>2.0</td>\n",
       "      <td>1.0</td>\n",
       "      <td>18.0</td>\n",
       "      <td>19.0</td>\n",
       "      <td>4.0</td>\n",
       "      <td>3.0</td>\n",
       "      <td>5.0</td>\n",
       "      <td>272.0</td>\n",
       "      <td>329.0</td>\n",
       "      <td>3.0</td>\n",
       "      <td>16.0</td>\n",
       "      <td>8.0</td>\n",
       "      <td>6.0</td>\n",
       "    </tr>\n",
       "    <tr>\n",
       "      <th>7</th>\n",
       "      <td>Internacional</td>\n",
       "      <td>1</td>\n",
       "      <td>E</td>\n",
       "      <td>57.0</td>\n",
       "      <td>2.0</td>\n",
       "      <td>2.0</td>\n",
       "      <td>11.0</td>\n",
       "      <td>24.0</td>\n",
       "      <td>6.0</td>\n",
       "      <td>0.0</td>\n",
       "      <td>4.0</td>\n",
       "      <td>420.0</td>\n",
       "      <td>485.0</td>\n",
       "      <td>3.0</td>\n",
       "      <td>13.0</td>\n",
       "      <td>6.0</td>\n",
       "      <td>5.0</td>\n",
       "    </tr>\n",
       "  </tbody>\n",
       "</table>\n",
       "</div>"
      ],
      "text/plain": [
       "             Clube Rodada Resultado  Posse de Bola  Gols Feitos  \\\n",
       "0           Santos      1         D           66.0          0.0   \n",
       "1            Ceará      1         V           35.0          3.0   \n",
       "2      Chapecoense      1         D           44.0          0.0   \n",
       "3       Fluminense      1         E           29.0          0.0   \n",
       "4            Sport      1         E           43.0          2.0   \n",
       "5  América Mineiro      1         D           44.0          0.0   \n",
       "6        Fortaleza      1         V           46.0          2.0   \n",
       "7    Internacional      1         E           57.0          2.0   \n",
       "\n",
       "   Gols Sofridos  Total de Chutes  Faltas Cometidas  Escanteio  Impedimento  \\\n",
       "0            3.0             12.0               9.0       11.0          2.0   \n",
       "1            2.0             12.0              17.0        5.0          2.0   \n",
       "2            3.0             10.0               9.0        5.0          0.0   \n",
       "3            0.0             11.0              12.0        5.0          2.0   \n",
       "4            2.0              8.0              15.0        1.0          2.0   \n",
       "5            1.0             14.0               9.0        1.0          NaN   \n",
       "6            1.0             18.0              19.0        4.0          3.0   \n",
       "7            2.0             11.0              24.0        6.0          0.0   \n",
       "\n",
       "   Chute ao Gol  Passes Certos  Total de Passes  Defesas  Faltas sofridas  \\\n",
       "0           4.0          501.0            563.0      0.0             18.0   \n",
       "1           6.0          196.0            277.0      1.0             17.0   \n",
       "2           2.0          342.0            428.0      5.0             11.0   \n",
       "3           5.0          178.0            251.0      3.0              8.0   \n",
       "4           5.0          299.0            362.0      2.0             23.0   \n",
       "5           4.0          351.0            429.0      4.0             17.0   \n",
       "6           5.0          272.0            329.0      3.0             16.0   \n",
       "7           4.0          420.0            485.0      3.0             13.0   \n",
       "\n",
       "   Chutes Errados  Divididas Ganhas  \n",
       "0             5.0               9.0  \n",
       "1             5.0               3.0  \n",
       "2             6.0               8.0  \n",
       "3             4.0              12.0  \n",
       "4             2.0              12.0  \n",
       "5             6.0               5.0  \n",
       "6             8.0               6.0  \n",
       "7             6.0               5.0  "
      ]
     },
     "execution_count": 36,
     "metadata": {},
     "output_type": "execute_result"
    }
   ],
   "source": [
    "df_final.head(8)"
   ]
  },
  {
   "cell_type": "markdown",
   "metadata": {},
   "source": [
    "##### Exportando o Dataframe para o excel"
   ]
  },
  {
   "cell_type": "code",
   "execution_count": 33,
   "metadata": {},
   "outputs": [],
   "source": [
    "nacional.to_excel('Scout final.xlsx')"
   ]
  }
 ],
 "metadata": {
  "kernelspec": {
   "display_name": "Python 3",
   "language": "python",
   "name": "python3"
  },
  "language_info": {
   "codemirror_mode": {
    "name": "ipython",
    "version": 3
   },
   "file_extension": ".py",
   "mimetype": "text/x-python",
   "name": "python",
   "nbconvert_exporter": "python",
   "pygments_lexer": "ipython3",
   "version": "3.8.5"
  }
 },
 "nbformat": 4,
 "nbformat_minor": 4
}
